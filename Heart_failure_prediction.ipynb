{
  "cells": [
    {
      "cell_type": "markdown",
      "metadata": {
        "id": "view-in-github",
        "colab_type": "text"
      },
      "source": [
        "<a href=\"https://colab.research.google.com/github/Devank-Garg/AIML-PROJECTS/blob/main/Heart_failure_prediction.ipynb\" target=\"_parent\"><img src=\"https://colab.research.google.com/assets/colab-badge.svg\" alt=\"Open In Colab\"/></a>"
      ]
    },
    {
      "cell_type": "markdown",
      "id": "1ac115b7",
      "metadata": {
        "papermill": {
          "duration": 0.015405,
          "end_time": "2022-10-17T02:26:38.308298",
          "exception": false,
          "start_time": "2022-10-17T02:26:38.292893",
          "status": "completed"
        },
        "tags": [],
        "id": "1ac115b7"
      },
      "source": [
        "# Heart failure prediction"
      ]
    },
    {
      "cell_type": "markdown",
      "id": "b748ec57",
      "metadata": {
        "papermill": {
          "duration": 0.01564,
          "end_time": "2022-10-17T02:26:38.338182",
          "exception": false,
          "start_time": "2022-10-17T02:26:38.322542",
          "status": "completed"
        },
        "tags": [],
        "id": "b748ec57"
      },
      "source": [
        "#### Heart failure — sometimes known as congestive heart failure — occurs when the heart muscle doesn't pump blood as well as it should. When this happens, blood often backs up and fluid can build up in the lungs, causing shortness of breath.\n",
        "\n",
        "#### One way to prevent heart failure is to prevent and control conditions that can cause it, such as coronary artery disease, high blood pressure, diabetes and obesity.\n",
        "\n",
        "## MADE BY DEVANK GARG AND PANSHUL\n"
      ]
    },
    {
      "cell_type": "code",
      "execution_count": null,
      "id": "33cc03fe",
      "metadata": {
        "execution": {
          "iopub.execute_input": "2022-10-17T02:26:38.368094Z",
          "iopub.status.busy": "2022-10-17T02:26:38.367538Z",
          "iopub.status.idle": "2022-10-17T02:26:40.031647Z",
          "shell.execute_reply": "2022-10-17T02:26:40.030563Z"
        },
        "papermill": {
          "duration": 1.682787,
          "end_time": "2022-10-17T02:26:40.034705",
          "exception": false,
          "start_time": "2022-10-17T02:26:38.351918",
          "status": "completed"
        },
        "tags": [],
        "id": "33cc03fe"
      },
      "outputs": [],
      "source": [
        "#Importing all the libraries that are being used in this code\n",
        "import warnings\n",
        "import numpy as np\n",
        "import pandas as pd\n",
        "import seaborn as sns\n",
        "import matplotlib.pyplot as plt\n",
        "from sklearn.ensemble import RandomForestRegressor\n",
        "from sklearn.linear_model import LinearRegression\n",
        "from sklearn.model_selection import train_test_split\n",
        "from sklearn.metrics import mean_absolute_error,r2_score,mean_squared_error\n",
        "from sklearn.feature_selection import RFE\n",
        "from sklearn.linear_model import LogisticRegression\n",
        "from sklearn.model_selection import train_test_split\n",
        "from sklearn.metrics import accuracy_score, confusion_matrix, classification_report"
      ]
    },
    {
      "cell_type": "code",
      "execution_count": null,
      "id": "3f12fabb",
      "metadata": {
        "execution": {
          "iopub.execute_input": "2022-10-17T02:26:40.067326Z",
          "iopub.status.busy": "2022-10-17T02:26:40.066852Z",
          "iopub.status.idle": "2022-10-17T02:26:40.092915Z",
          "shell.execute_reply": "2022-10-17T02:26:40.091969Z"
        },
        "papermill": {
          "duration": 0.044724,
          "end_time": "2022-10-17T02:26:40.095912",
          "exception": false,
          "start_time": "2022-10-17T02:26:40.051188",
          "status": "completed"
        },
        "tags": [],
        "id": "3f12fabb"
      },
      "outputs": [],
      "source": [
        "# importing dataset\n",
        "data = pd.read_csv (r'/content/heart_failure_clinical_records_dataset.csv')\n"
      ]
    },
    {
      "cell_type": "code",
      "execution_count": null,
      "id": "fbe9ded3",
      "metadata": {
        "execution": {
          "iopub.execute_input": "2022-10-17T02:26:40.126110Z",
          "iopub.status.busy": "2022-10-17T02:26:40.125295Z",
          "iopub.status.idle": "2022-10-17T02:26:40.153072Z",
          "shell.execute_reply": "2022-10-17T02:26:40.151946Z"
        },
        "papermill": {
          "duration": 0.046152,
          "end_time": "2022-10-17T02:26:40.156210",
          "exception": false,
          "start_time": "2022-10-17T02:26:40.110058",
          "status": "completed"
        },
        "tags": [],
        "colab": {
          "base_uri": "https://localhost:8080/",
          "height": 270
        },
        "id": "fbe9ded3",
        "outputId": "02ca7ae8-44c8-45be-dfbf-b6db166fbfff"
      },
      "outputs": [
        {
          "output_type": "execute_result",
          "data": {
            "text/plain": [
              "    age  anaemia  creatinine_phosphokinase  diabetes  ejection_fraction  \\\n",
              "0  75.0        0                       582         0                 20   \n",
              "1  55.0        0                      7861         0                 38   \n",
              "2  65.0        0                       146         0                 20   \n",
              "3  50.0        1                       111         0                 20   \n",
              "4  65.0        1                       160         1                 20   \n",
              "\n",
              "   high_blood_pressure  platelets  serum_creatinine  serum_sodium  sex  \\\n",
              "0                    1  265000.00               1.9           130    1   \n",
              "1                    0  263358.03               1.1           136    1   \n",
              "2                    0  162000.00               1.3           129    1   \n",
              "3                    0  210000.00               1.9           137    1   \n",
              "4                    0  327000.00               2.7           116    0   \n",
              "\n",
              "   smoking  time  DEATH_EVENT  \n",
              "0        0     4            1  \n",
              "1        0     6            1  \n",
              "2        1     7            1  \n",
              "3        0     7            1  \n",
              "4        0     8            1  "
            ],
            "text/html": [
              "\n",
              "  <div id=\"df-501f3984-057e-44d7-ba55-a6ca78d27799\">\n",
              "    <div class=\"colab-df-container\">\n",
              "      <div>\n",
              "<style scoped>\n",
              "    .dataframe tbody tr th:only-of-type {\n",
              "        vertical-align: middle;\n",
              "    }\n",
              "\n",
              "    .dataframe tbody tr th {\n",
              "        vertical-align: top;\n",
              "    }\n",
              "\n",
              "    .dataframe thead th {\n",
              "        text-align: right;\n",
              "    }\n",
              "</style>\n",
              "<table border=\"1\" class=\"dataframe\">\n",
              "  <thead>\n",
              "    <tr style=\"text-align: right;\">\n",
              "      <th></th>\n",
              "      <th>age</th>\n",
              "      <th>anaemia</th>\n",
              "      <th>creatinine_phosphokinase</th>\n",
              "      <th>diabetes</th>\n",
              "      <th>ejection_fraction</th>\n",
              "      <th>high_blood_pressure</th>\n",
              "      <th>platelets</th>\n",
              "      <th>serum_creatinine</th>\n",
              "      <th>serum_sodium</th>\n",
              "      <th>sex</th>\n",
              "      <th>smoking</th>\n",
              "      <th>time</th>\n",
              "      <th>DEATH_EVENT</th>\n",
              "    </tr>\n",
              "  </thead>\n",
              "  <tbody>\n",
              "    <tr>\n",
              "      <th>0</th>\n",
              "      <td>75.0</td>\n",
              "      <td>0</td>\n",
              "      <td>582</td>\n",
              "      <td>0</td>\n",
              "      <td>20</td>\n",
              "      <td>1</td>\n",
              "      <td>265000.00</td>\n",
              "      <td>1.9</td>\n",
              "      <td>130</td>\n",
              "      <td>1</td>\n",
              "      <td>0</td>\n",
              "      <td>4</td>\n",
              "      <td>1</td>\n",
              "    </tr>\n",
              "    <tr>\n",
              "      <th>1</th>\n",
              "      <td>55.0</td>\n",
              "      <td>0</td>\n",
              "      <td>7861</td>\n",
              "      <td>0</td>\n",
              "      <td>38</td>\n",
              "      <td>0</td>\n",
              "      <td>263358.03</td>\n",
              "      <td>1.1</td>\n",
              "      <td>136</td>\n",
              "      <td>1</td>\n",
              "      <td>0</td>\n",
              "      <td>6</td>\n",
              "      <td>1</td>\n",
              "    </tr>\n",
              "    <tr>\n",
              "      <th>2</th>\n",
              "      <td>65.0</td>\n",
              "      <td>0</td>\n",
              "      <td>146</td>\n",
              "      <td>0</td>\n",
              "      <td>20</td>\n",
              "      <td>0</td>\n",
              "      <td>162000.00</td>\n",
              "      <td>1.3</td>\n",
              "      <td>129</td>\n",
              "      <td>1</td>\n",
              "      <td>1</td>\n",
              "      <td>7</td>\n",
              "      <td>1</td>\n",
              "    </tr>\n",
              "    <tr>\n",
              "      <th>3</th>\n",
              "      <td>50.0</td>\n",
              "      <td>1</td>\n",
              "      <td>111</td>\n",
              "      <td>0</td>\n",
              "      <td>20</td>\n",
              "      <td>0</td>\n",
              "      <td>210000.00</td>\n",
              "      <td>1.9</td>\n",
              "      <td>137</td>\n",
              "      <td>1</td>\n",
              "      <td>0</td>\n",
              "      <td>7</td>\n",
              "      <td>1</td>\n",
              "    </tr>\n",
              "    <tr>\n",
              "      <th>4</th>\n",
              "      <td>65.0</td>\n",
              "      <td>1</td>\n",
              "      <td>160</td>\n",
              "      <td>1</td>\n",
              "      <td>20</td>\n",
              "      <td>0</td>\n",
              "      <td>327000.00</td>\n",
              "      <td>2.7</td>\n",
              "      <td>116</td>\n",
              "      <td>0</td>\n",
              "      <td>0</td>\n",
              "      <td>8</td>\n",
              "      <td>1</td>\n",
              "    </tr>\n",
              "  </tbody>\n",
              "</table>\n",
              "</div>\n",
              "      <button class=\"colab-df-convert\" onclick=\"convertToInteractive('df-501f3984-057e-44d7-ba55-a6ca78d27799')\"\n",
              "              title=\"Convert this dataframe to an interactive table.\"\n",
              "              style=\"display:none;\">\n",
              "        \n",
              "  <svg xmlns=\"http://www.w3.org/2000/svg\" height=\"24px\"viewBox=\"0 0 24 24\"\n",
              "       width=\"24px\">\n",
              "    <path d=\"M0 0h24v24H0V0z\" fill=\"none\"/>\n",
              "    <path d=\"M18.56 5.44l.94 2.06.94-2.06 2.06-.94-2.06-.94-.94-2.06-.94 2.06-2.06.94zm-11 1L8.5 8.5l.94-2.06 2.06-.94-2.06-.94L8.5 2.5l-.94 2.06-2.06.94zm10 10l.94 2.06.94-2.06 2.06-.94-2.06-.94-.94-2.06-.94 2.06-2.06.94z\"/><path d=\"M17.41 7.96l-1.37-1.37c-.4-.4-.92-.59-1.43-.59-.52 0-1.04.2-1.43.59L10.3 9.45l-7.72 7.72c-.78.78-.78 2.05 0 2.83L4 21.41c.39.39.9.59 1.41.59.51 0 1.02-.2 1.41-.59l7.78-7.78 2.81-2.81c.8-.78.8-2.07 0-2.86zM5.41 20L4 18.59l7.72-7.72 1.47 1.35L5.41 20z\"/>\n",
              "  </svg>\n",
              "      </button>\n",
              "      \n",
              "  <style>\n",
              "    .colab-df-container {\n",
              "      display:flex;\n",
              "      flex-wrap:wrap;\n",
              "      gap: 12px;\n",
              "    }\n",
              "\n",
              "    .colab-df-convert {\n",
              "      background-color: #E8F0FE;\n",
              "      border: none;\n",
              "      border-radius: 50%;\n",
              "      cursor: pointer;\n",
              "      display: none;\n",
              "      fill: #1967D2;\n",
              "      height: 32px;\n",
              "      padding: 0 0 0 0;\n",
              "      width: 32px;\n",
              "    }\n",
              "\n",
              "    .colab-df-convert:hover {\n",
              "      background-color: #E2EBFA;\n",
              "      box-shadow: 0px 1px 2px rgba(60, 64, 67, 0.3), 0px 1px 3px 1px rgba(60, 64, 67, 0.15);\n",
              "      fill: #174EA6;\n",
              "    }\n",
              "\n",
              "    [theme=dark] .colab-df-convert {\n",
              "      background-color: #3B4455;\n",
              "      fill: #D2E3FC;\n",
              "    }\n",
              "\n",
              "    [theme=dark] .colab-df-convert:hover {\n",
              "      background-color: #434B5C;\n",
              "      box-shadow: 0px 1px 3px 1px rgba(0, 0, 0, 0.15);\n",
              "      filter: drop-shadow(0px 1px 2px rgba(0, 0, 0, 0.3));\n",
              "      fill: #FFFFFF;\n",
              "    }\n",
              "  </style>\n",
              "\n",
              "      <script>\n",
              "        const buttonEl =\n",
              "          document.querySelector('#df-501f3984-057e-44d7-ba55-a6ca78d27799 button.colab-df-convert');\n",
              "        buttonEl.style.display =\n",
              "          google.colab.kernel.accessAllowed ? 'block' : 'none';\n",
              "\n",
              "        async function convertToInteractive(key) {\n",
              "          const element = document.querySelector('#df-501f3984-057e-44d7-ba55-a6ca78d27799');\n",
              "          const dataTable =\n",
              "            await google.colab.kernel.invokeFunction('convertToInteractive',\n",
              "                                                     [key], {});\n",
              "          if (!dataTable) return;\n",
              "\n",
              "          const docLinkHtml = 'Like what you see? Visit the ' +\n",
              "            '<a target=\"_blank\" href=https://colab.research.google.com/notebooks/data_table.ipynb>data table notebook</a>'\n",
              "            + ' to learn more about interactive tables.';\n",
              "          element.innerHTML = '';\n",
              "          dataTable['output_type'] = 'display_data';\n",
              "          await google.colab.output.renderOutput(dataTable, element);\n",
              "          const docLink = document.createElement('div');\n",
              "          docLink.innerHTML = docLinkHtml;\n",
              "          element.appendChild(docLink);\n",
              "        }\n",
              "      </script>\n",
              "    </div>\n",
              "  </div>\n",
              "  "
            ]
          },
          "metadata": {},
          "execution_count": 5
        }
      ],
      "source": [
        "data.head() # reading first 5 rows of dataset"
      ]
    },
    {
      "cell_type": "code",
      "execution_count": null,
      "id": "24ac91dc",
      "metadata": {
        "execution": {
          "iopub.execute_input": "2022-10-17T02:26:40.187102Z",
          "iopub.status.busy": "2022-10-17T02:26:40.186506Z",
          "iopub.status.idle": "2022-10-17T02:26:40.194396Z",
          "shell.execute_reply": "2022-10-17T02:26:40.193241Z"
        },
        "papermill": {
          "duration": 0.026344,
          "end_time": "2022-10-17T02:26:40.196804",
          "exception": false,
          "start_time": "2022-10-17T02:26:40.170460",
          "status": "completed"
        },
        "tags": [],
        "colab": {
          "base_uri": "https://localhost:8080/"
        },
        "id": "24ac91dc",
        "outputId": "521534cb-76d0-4119-cbac-e210ba8339d0"
      },
      "outputs": [
        {
          "output_type": "execute_result",
          "data": {
            "text/plain": [
              "Index(['age', 'anaemia', 'creatinine_phosphokinase', 'diabetes',\n",
              "       'ejection_fraction', 'high_blood_pressure', 'platelets',\n",
              "       'serum_creatinine', 'serum_sodium', 'sex', 'smoking', 'time',\n",
              "       'DEATH_EVENT'],\n",
              "      dtype='object')"
            ]
          },
          "metadata": {},
          "execution_count": 6
        }
      ],
      "source": [
        "data.columns"
      ]
    },
    {
      "cell_type": "code",
      "execution_count": null,
      "id": "c678b80f",
      "metadata": {
        "execution": {
          "iopub.execute_input": "2022-10-17T02:26:40.227906Z",
          "iopub.status.busy": "2022-10-17T02:26:40.227463Z",
          "iopub.status.idle": "2022-10-17T02:26:40.233647Z",
          "shell.execute_reply": "2022-10-17T02:26:40.232403Z"
        },
        "papermill": {
          "duration": 0.0248,
          "end_time": "2022-10-17T02:26:40.236288",
          "exception": false,
          "start_time": "2022-10-17T02:26:40.211488",
          "status": "completed"
        },
        "tags": [],
        "id": "c678b80f"
      },
      "outputs": [],
      "source": [
        "# make columns lowercases for ease of use\n",
        "data.columns = data.columns.str.lower()"
      ]
    },
    {
      "cell_type": "markdown",
      "id": "f04b9256",
      "metadata": {
        "papermill": {
          "duration": 0.014036,
          "end_time": "2022-10-17T02:26:40.265241",
          "exception": false,
          "start_time": "2022-10-17T02:26:40.251205",
          "status": "completed"
        },
        "tags": [],
        "id": "f04b9256"
      },
      "source": [
        "# Understanding features:"
      ]
    },
    {
      "cell_type": "markdown",
      "id": "9d798cfc",
      "metadata": {
        "papermill": {
          "duration": 0.013986,
          "end_time": "2022-10-17T02:26:40.293680",
          "exception": false,
          "start_time": "2022-10-17T02:26:40.279694",
          "status": "completed"
        },
        "tags": [],
        "id": "9d798cfc"
      },
      "source": [
        "- Anemia - anemia is a condition in which you lack enough healthy red blood cells to carry adequate oxygen to your body's tissues. Having anemia, also referred to as low hemoglobin, can make you feel tired and weak. (there is not anemia - 0, there is anemia - 1)\n",
        "\n",
        "- Creatine_phosphokinase (CPK) - CPK is an enzyme in the body. It is found mainly in the heart, brain, and skeletal muscle. Total CPK normal values: 10 to 120 micrograms per liter (mcg/L)\n",
        "\n",
        "- Ejection_fraction (EF) - EF is a measurement, expressed as a percentage, of how much blood the left ventricle pumps out with each contraction. An ejection fraction of 60 percent means that 60 percent of the total amount of blood in the left ventricle is pushed out with each heartbeat. This indication of how well your heart is pumping out blood can help to diagnose and track heart failure. A normal heart’s ejection fraction may be between 50 and 70 percent.\n",
        "\n",
        "- Platelets - platelets are colorless blood cells that help blood clot. Platelets stop bleeding by clumping and forming plugs in blood vessel injuries. Thrombocytopenia might occur as a result of a bone marrow disorder such as leukemia or an immune system problem. The normal number of platelets in the blood is 150,000 to 400,000 platelets per microliter (mcL) or 150 to 400 × 109/L.\n",
        "\n",
        "- Serum_creatinine - The amount of creatinine in your blood should be relatively stable. An increased level of creatinine may be a sign of poor kidney function. Serum creatinine is reported as milligrams of creatinine to a deciliter of blood (mg/dL) or micromoles of creatinine to a liter of blood (micromoles/L). Here are the normal values by age: 0.9 to 1.3 mg/dL for adult males. 0.6 to 1.1 mg/dL for adult females. 0.5 to 1.0 mg/dL for children ages 3 to 18 years.\n",
        "\n",
        "- Serum_sodium - Measurement of serum sodium is routine in assessing electrolyte, acid-base, and water balance, as well as renal function. Sodium accounts for approximately 95% of the osmotically active substances in the extracellular compartment, provided that the patient is not in renal failure or does not have severe hyperglycemia. The normal range for blood sodium levels is 135 to 145 milliequivalents per liter (mEq/L).\n",
        "\n",
        "- Time - follow-up period (days)\n",
        "\n",
        "- High_blood_pressure - (True - 1, False - 0)\n",
        "\n",
        "- Age - between 40 - 95\n",
        "\n",
        "- Diabetes - (True - 1, False - 0)\n",
        "\n",
        "- Sex - (male - 1, female - 0)\n",
        "\n",
        "- Smoking - (True - 1, False - 0)\n",
        "\n",
        "- Death event - (True - 1, False - 0)"
      ]
    },
    {
      "cell_type": "markdown",
      "id": "28ae3cfe",
      "metadata": {
        "papermill": {
          "duration": 0.013785,
          "end_time": "2022-10-17T02:26:40.321847",
          "exception": false,
          "start_time": "2022-10-17T02:26:40.308062",
          "status": "completed"
        },
        "tags": [],
        "id": "28ae3cfe"
      },
      "source": [
        "# EDA\n"
      ]
    },
    {
      "cell_type": "code",
      "execution_count": null,
      "id": "1be6c3bd",
      "metadata": {
        "execution": {
          "iopub.execute_input": "2022-10-17T02:26:40.352250Z",
          "iopub.status.busy": "2022-10-17T02:26:40.351831Z",
          "iopub.status.idle": "2022-10-17T02:26:40.374028Z",
          "shell.execute_reply": "2022-10-17T02:26:40.372657Z"
        },
        "papermill": {
          "duration": 0.040526,
          "end_time": "2022-10-17T02:26:40.376649",
          "exception": false,
          "start_time": "2022-10-17T02:26:40.336123",
          "status": "completed"
        },
        "tags": [],
        "id": "1be6c3bd"
      },
      "outputs": [],
      "source": [
        "#Make a copy of the data for the visualisation:\n",
        "df_vis = data.copy()\n",
        "df_vis.death_event = df_vis.death_event.map({0:'Alive',1:'Dead'})\n",
        "df_vis.diabetes = df_vis.diabetes.map({0:'No',1:'Yes'})\n",
        "df_vis.smoking = df_vis.smoking.map({0:'No',1:'Yes'})\n",
        "df_vis.sex = df_vis.sex.map({0:'Female',1:'Male'})\n"
      ]
    },
    {
      "cell_type": "markdown",
      "id": "37dbbd8d",
      "metadata": {
        "papermill": {
          "duration": 0.014853,
          "end_time": "2022-10-17T02:26:40.405942",
          "exception": false,
          "start_time": "2022-10-17T02:26:40.391089",
          "status": "completed"
        },
        "tags": [],
        "id": "37dbbd8d"
      },
      "source": [
        "## Distribution of Death by heart failure in dataset:"
      ]
    },
    {
      "cell_type": "code",
      "execution_count": null,
      "id": "0cb19a44",
      "metadata": {
        "execution": {
          "iopub.execute_input": "2022-10-17T02:26:40.436668Z",
          "iopub.status.busy": "2022-10-17T02:26:40.436170Z",
          "iopub.status.idle": "2022-10-17T02:26:40.612205Z",
          "shell.execute_reply": "2022-10-17T02:26:40.610486Z"
        },
        "papermill": {
          "duration": 0.196636,
          "end_time": "2022-10-17T02:26:40.616984",
          "exception": false,
          "start_time": "2022-10-17T02:26:40.420348",
          "status": "completed"
        },
        "tags": [],
        "colab": {
          "base_uri": "https://localhost:8080/",
          "height": 432
        },
        "id": "0cb19a44",
        "outputId": "488b7bcd-cd3c-4bd6-fa5b-dafd1875b16a"
      },
      "outputs": [
        {
          "output_type": "display_data",
          "data": {
            "text/plain": [
              "<Figure size 504x504 with 1 Axes>"
            ],
            "image/png": "[encoded data removed]"
          },
          "metadata": {}
        }
      ],
      "source": [
        "# chart for death event by heart failure\n",
        "plt.figure(figsize=(7,7))\n",
        "plt.pie(data['death_event'].value_counts(),labels=['Alive','Dead'],autopct='%1.1f%%',shadow=True,explode=[0,0.1], colors = ['lightblue','lightgreen'])\n",
        "plt.title('Death Event',fontsize=20)\n",
        "plt.show()"
      ]
    },
    {
      "cell_type": "markdown",
      "id": "5f2b1439",
      "metadata": {
        "papermill": {
          "duration": 0.030011,
          "end_time": "2022-10-17T02:26:40.685955",
          "exception": false,
          "start_time": "2022-10-17T02:26:40.655944",
          "status": "completed"
        },
        "tags": [],
        "id": "5f2b1439"
      },
      "source": [
        "##### Data is unbalanced"
      ]
    },
    {
      "cell_type": "markdown",
      "id": "93b58214",
      "metadata": {
        "papermill": {
          "duration": 0.014472,
          "end_time": "2022-10-17T02:26:40.715041",
          "exception": false,
          "start_time": "2022-10-17T02:26:40.700569",
          "status": "completed"
        },
        "tags": [],
        "id": "93b58214"
      },
      "source": [
        "## Sex distribution:"
      ]
    },
    {
      "cell_type": "code",
      "execution_count": null,
      "id": "b21a86b8",
      "metadata": {
        "execution": {
          "iopub.execute_input": "2022-10-17T02:26:40.746369Z",
          "iopub.status.busy": "2022-10-17T02:26:40.745689Z",
          "iopub.status.idle": "2022-10-17T02:26:40.753807Z",
          "shell.execute_reply": "2022-10-17T02:26:40.753023Z"
        },
        "papermill": {
          "duration": 0.026442,
          "end_time": "2022-10-17T02:26:40.756063",
          "exception": false,
          "start_time": "2022-10-17T02:26:40.729621",
          "status": "completed"
        },
        "tags": [],
        "colab": {
          "base_uri": "https://localhost:8080/"
        },
        "id": "b21a86b8",
        "outputId": "23e6b9d5-fc05-48d6-93fd-949c53c7a41b"
      },
      "outputs": [
        {
          "output_type": "execute_result",
          "data": {
            "text/plain": [
              "Male      194\n",
              "Female    105\n",
              "Name: sex, dtype: int64"
            ]
          },
          "metadata": {},
          "execution_count": 10
        }
      ],
      "source": [
        "#Sex distribution data\n",
        "df_vis['sex'].value_counts()"
      ]
    },
    {
      "cell_type": "markdown",
      "id": "b005d37f",
      "metadata": {
        "papermill": {
          "duration": 0.014484,
          "end_time": "2022-10-17T02:26:40.785347",
          "exception": false,
          "start_time": "2022-10-17T02:26:40.770863",
          "status": "completed"
        },
        "tags": [],
        "id": "b005d37f"
      },
      "source": [
        "##### As we can see males in the dataset are higher than females, and because of that a heart failure can not be measured by gender as the data is somehow biased towards males."
      ]
    },
    {
      "cell_type": "markdown",
      "id": "ece66ee8",
      "metadata": {
        "papermill": {
          "duration": 0.01435,
          "end_time": "2022-10-17T02:26:40.814388",
          "exception": false,
          "start_time": "2022-10-17T02:26:40.800038",
          "status": "completed"
        },
        "tags": [],
        "id": "ece66ee8"
      },
      "source": [
        "## Is there any relation between gender and death event?"
      ]
    },
    {
      "cell_type": "code",
      "execution_count": null,
      "id": "ec9d13d5",
      "metadata": {
        "execution": {
          "iopub.execute_input": "2022-10-17T02:26:40.847349Z",
          "iopub.status.busy": "2022-10-17T02:26:40.846887Z",
          "iopub.status.idle": "2022-10-17T02:26:41.092585Z",
          "shell.execute_reply": "2022-10-17T02:26:41.091404Z"
        },
        "papermill": {
          "duration": 0.265368,
          "end_time": "2022-10-17T02:26:41.095497",
          "exception": false,
          "start_time": "2022-10-17T02:26:40.830129",
          "status": "completed"
        },
        "tags": [],
        "colab": {
          "base_uri": "https://localhost:8080/",
          "height": 459
        },
        "id": "ec9d13d5",
        "outputId": "861d9a8e-1b96-4389-c72a-25349c13ca50"
      },
      "outputs": [
        {
          "output_type": "execute_result",
          "data": {
            "text/plain": [
              "<matplotlib.axes._subplots.AxesSubplot at 0x7f75c2ef8bd0>"
            ]
          },
          "metadata": {},
          "execution_count": 11
        },
        {
          "output_type": "display_data",
          "data": {
            "text/plain": [
              "<Figure size 504x504 with 1 Axes>"
            ],
            "image/png": "[encoded data removed]"
          },
          "metadata": {
            "needs_background": "light"
          }
        }
      ],
      "source": [
        "# chart for Gender and  death event\n",
        "plt.figure(figsize=(7,7))\n",
        "sns.countplot(x='sex',hue='death_event',data=df_vis)"
      ]
    },
    {
      "cell_type": "markdown",
      "id": "d346b6e9",
      "metadata": {
        "papermill": {
          "duration": 0.014927,
          "end_time": "2022-10-17T02:26:41.125866",
          "exception": false,
          "start_time": "2022-10-17T02:26:41.110939",
          "status": "completed"
        },
        "tags": [],
        "id": "d346b6e9"
      },
      "source": [
        "#### As we can see as males are more in the dataset, it's understandable that they are more likely to die from heart failure."
      ]
    },
    {
      "cell_type": "markdown",
      "id": "dfc36a38",
      "metadata": {
        "papermill": {
          "duration": 0.015175,
          "end_time": "2022-10-17T02:26:41.156389",
          "exception": false,
          "start_time": "2022-10-17T02:26:41.141214",
          "status": "completed"
        },
        "tags": [],
        "id": "dfc36a38"
      },
      "source": [
        "## Is there a relationship between age and heart failure?"
      ]
    },
    {
      "cell_type": "code",
      "execution_count": null,
      "id": "462facbb",
      "metadata": {
        "execution": {
          "iopub.execute_input": "2022-10-17T02:26:41.188900Z",
          "iopub.status.busy": "2022-10-17T02:26:41.188492Z",
          "iopub.status.idle": "2022-10-17T02:26:41.436138Z",
          "shell.execute_reply": "2022-10-17T02:26:41.434827Z"
        },
        "papermill": {
          "duration": 0.266992,
          "end_time": "2022-10-17T02:26:41.438814",
          "exception": false,
          "start_time": "2022-10-17T02:26:41.171822",
          "status": "completed"
        },
        "tags": [],
        "colab": {
          "base_uri": "https://localhost:8080/",
          "height": 464
        },
        "id": "462facbb",
        "outputId": "c8791a57-21fd-49cb-ed74-e52102e8560c"
      },
      "outputs": [
        {
          "output_type": "display_data",
          "data": {
            "text/plain": [
              "<Figure size 504x504 with 1 Axes>"
            ],
            "image/png": "[encoded data removed]"
          },
          "metadata": {
            "needs_background": "light"
          }
        }
      ],
      "source": [
        "# violin plots for Age with death event\n",
        "plt.figure(figsize=(7,7))\n",
        "sns.violinplot(x='death_event',y='age',data=df_vis, palette='Set3')\n",
        "plt.title('Age with Death Event',fontsize=20)\n",
        "plt.show()\n"
      ]
    },
    {
      "cell_type": "markdown",
      "id": "c9f55735",
      "metadata": {
        "papermill": {
          "duration": 0.015623,
          "end_time": "2022-10-17T02:26:41.470614",
          "exception": false,
          "start_time": "2022-10-17T02:26:41.454991",
          "status": "completed"
        },
        "tags": [],
        "id": "c9f55735"
      },
      "source": [
        "#### As we can see, the older the person, the more likely he is to die from heart failure."
      ]
    },
    {
      "cell_type": "markdown",
      "id": "da606983",
      "metadata": {
        "papermill": {
          "duration": 0.015655,
          "end_time": "2022-10-17T02:26:41.502185",
          "exception": false,
          "start_time": "2022-10-17T02:26:41.486530",
          "status": "completed"
        },
        "tags": [],
        "id": "da606983"
      },
      "source": [
        "## Can diabetes be a cause of heart failure?"
      ]
    },
    {
      "cell_type": "code",
      "execution_count": null,
      "id": "668e2993",
      "metadata": {
        "execution": {
          "iopub.execute_input": "2022-10-17T02:26:41.537198Z",
          "iopub.status.busy": "2022-10-17T02:26:41.536760Z",
          "iopub.status.idle": "2022-10-17T02:26:41.756747Z",
          "shell.execute_reply": "2022-10-17T02:26:41.755288Z"
        },
        "papermill": {
          "duration": 0.240694,
          "end_time": "2022-10-17T02:26:41.759528",
          "exception": false,
          "start_time": "2022-10-17T02:26:41.518834",
          "status": "completed"
        },
        "tags": [],
        "colab": {
          "base_uri": "https://localhost:8080/",
          "height": 463
        },
        "id": "668e2993",
        "outputId": "62737e4e-69fd-4e18-fbcd-c2f60a264753"
      },
      "outputs": [
        {
          "output_type": "display_data",
          "data": {
            "text/plain": [
              "<Figure size 504x504 with 1 Axes>"
            ],
            "image/png": "[encoded data removed]"
          },
          "metadata": {
            "needs_background": "light"
          }
        }
      ],
      "source": [
        "# chart for Diabetes vs death event\n",
        "plt.figure(figsize=(7,7))\n",
        "sns.countplot(x='diabetes',hue='death_event',data=df_vis, palette='Set1')\n",
        "plt.title('Diabetes with Death Event',fontsize=20)\n",
        "plt.show()\n"
      ]
    },
    {
      "cell_type": "markdown",
      "id": "129ea753",
      "metadata": {
        "papermill": {
          "duration": 0.015867,
          "end_time": "2022-10-17T02:26:41.791698",
          "exception": false,
          "start_time": "2022-10-17T02:26:41.775831",
          "status": "completed"
        },
        "tags": [],
        "id": "129ea753"
      },
      "source": [
        "#### As we can see, there is no significant difference between the number of people with diabetes and without diabetes who died from heart failure."
      ]
    },
    {
      "cell_type": "markdown",
      "id": "ac4f561f",
      "metadata": {
        "papermill": {
          "duration": 0.015877,
          "end_time": "2022-10-17T02:26:41.823619",
          "exception": false,
          "start_time": "2022-10-17T02:26:41.807742",
          "status": "completed"
        },
        "tags": [],
        "id": "ac4f561f"
      },
      "source": [
        "## Can smoking be a cause of heart failure?"
      ]
    },
    {
      "cell_type": "code",
      "execution_count": null,
      "id": "2d0ebdf3",
      "metadata": {
        "execution": {
          "iopub.execute_input": "2022-10-17T02:26:41.858276Z",
          "iopub.status.busy": "2022-10-17T02:26:41.857379Z",
          "iopub.status.idle": "2022-10-17T02:26:42.080158Z",
          "shell.execute_reply": "2022-10-17T02:26:42.078924Z"
        },
        "papermill": {
          "duration": 0.243004,
          "end_time": "2022-10-17T02:26:42.082749",
          "exception": false,
          "start_time": "2022-10-17T02:26:41.839745",
          "status": "completed"
        },
        "tags": [],
        "colab": {
          "base_uri": "https://localhost:8080/",
          "height": 463
        },
        "id": "2d0ebdf3",
        "outputId": "a5ca3690-3dc2-46ed-f7fb-3b341c1d8bff"
      },
      "outputs": [
        {
          "output_type": "display_data",
          "data": {
            "text/plain": [
              "<Figure size 504x504 with 1 Axes>"
            ],
            "image/png": "[encoded data removed]"
          },
          "metadata": {
            "needs_background": "light"
          }
        }
      ],
      "source": [
        "# chart for smoking vs death event\n",
        "plt.figure(figsize=(7,7))\n",
        "sns.countplot(x='smoking',hue='death_event',data=df_vis, palette='Set2')\n",
        "plt.title('Smoking with Death Event',fontsize=20)\n",
        "plt.show()"
      ]
    },
    {
      "cell_type": "markdown",
      "id": "7262dca1",
      "metadata": {
        "papermill": {
          "duration": 0.016552,
          "end_time": "2022-10-17T02:26:42.116329",
          "exception": false,
          "start_time": "2022-10-17T02:26:42.099777",
          "status": "completed"
        },
        "tags": [],
        "id": "7262dca1"
      },
      "source": [
        "#### As we can see, people who smoke are more likely to die from heart failure.\n"
      ]
    },
    {
      "cell_type": "code",
      "execution_count": null,
      "id": "61e1d6a1",
      "metadata": {
        "execution": {
          "iopub.execute_input": "2022-10-17T02:26:42.184618Z",
          "iopub.status.busy": "2022-10-17T02:26:42.183772Z",
          "iopub.status.idle": "2022-10-17T02:26:44.662352Z",
          "shell.execute_reply": "2022-10-17T02:26:44.660928Z"
        },
        "papermill": {
          "duration": 2.499251,
          "end_time": "2022-10-17T02:26:44.664906",
          "exception": false,
          "start_time": "2022-10-17T02:26:42.165655",
          "status": "completed"
        },
        "tags": [],
        "colab": {
          "base_uri": "https://localhost:8080/",
          "height": 542
        },
        "id": "61e1d6a1",
        "outputId": "2840ddf5-3769-47a7-9add-29bf39ccfc70"
      },
      "outputs": [
        {
          "output_type": "display_data",
          "data": {
            "text/html": [
              "<html>\n",
              "<head><meta charset=\"utf-8\" /></head>\n",
              "<body>\n",
              "    <div>            <script src=\"https://cdnjs.cloudflare.com/ajax/libs/mathjax/2.7.5/MathJax.js?config=TeX-AMS-MML_SVG\"></script><script type=\"text/javascript\">if (window.MathJax) {MathJax.Hub.Config({SVG: {font: \"STIX-Web\"}});}</script>                <script type=\"text/javascript\">window.PlotlyConfig = {MathJaxConfig: 'local'};</script>\n",
              "        <script src=\"https://cdn.plot.ly/plotly-2.8.3.min.js\"></script>                <div id=\"0925d152-ca47-45e9-bbf1-e4de71968175\" class=\"plotly-graph-div\" style=\"height:525px; width:100%;\"></div>            <script type=\"text/javascript\">                                    window.PLOTLYENV=window.PLOTLYENV || {};                                    if (document.getElementById(\"0925d152-ca47-45e9-bbf1-e4de71968175\")) {                    Plotly.newPlot(                        \"0925d152-ca47-45e9-bbf1-e4de71968175\",                        [{\"alignmentgroup\":\"True\",\"box\":{\"visible\":true},\"customdata\":[[75.0,0,\"No\",20,1,265000.0,1.9,130,\"Male\",\"No\",4],[55.0,0,\"No\",38,0,263358.03,1.1,136,\"Male\",\"No\",6],[65.0,0,\"No\",20,0,162000.0,1.3,129,\"Male\",\"Yes\",7],[50.0,1,\"No\",20,0,210000.0,1.9,137,\"Male\",\"No\",7],[65.0,1,\"Yes\",20,0,327000.0,2.7,116,\"Female\",\"No\",8],[90.0,1,\"No\",40,1,204000.0,2.1,132,\"Male\",\"Yes\",8],[75.0,1,\"No\",15,0,127000.0,1.2,137,\"Male\",\"No\",10],[60.0,1,\"Yes\",60,0,454000.0,1.1,131,\"Male\",\"Yes\",10],[65.0,0,\"No\",65,0,263358.03,1.5,138,\"Female\",\"No\",10],[80.0,1,\"No\",35,1,388000.0,9.4,133,\"Male\",\"Yes\",10],[75.0,1,\"No\",38,1,368000.0,4.0,131,\"Male\",\"Yes\",10],[62.0,0,\"No\",25,1,253000.0,0.9,140,\"Male\",\"Yes\",10],[45.0,1,\"No\",30,0,136000.0,1.1,137,\"Male\",\"No\",11],[50.0,1,\"No\",38,1,276000.0,1.1,137,\"Male\",\"No\",11],[82.0,1,\"No\",50,0,47000.0,1.3,136,\"Male\",\"No\",13],[87.0,1,\"No\",38,0,262000.0,0.9,140,\"Male\",\"No\",14],[45.0,0,\"No\",14,0,166000.0,0.8,127,\"Male\",\"No\",14],[70.0,1,\"No\",25,1,237000.0,1.0,140,\"Female\",\"No\",15],[48.0,1,\"Yes\",55,0,87000.0,1.9,121,\"Female\",\"No\",15],[65.0,1,\"Yes\",30,1,297000.0,1.6,136,\"Female\",\"No\",20],[68.0,1,\"No\",35,1,289000.0,0.9,140,\"Male\",\"Yes\",20],[75.0,0,\"Yes\",30,1,263358.03,1.83,134,\"Female\",\"No\",23],[80.0,0,\"Yes\",38,0,149000.0,1.9,144,\"Male\",\"Yes\",23],[95.0,1,\"No\",40,1,196000.0,1.0,138,\"Female\",\"No\",24],[70.0,0,\"Yes\",45,1,284000.0,1.3,136,\"Male\",\"Yes\",26],[58.0,1,\"No\",38,0,153000.0,5.8,134,\"Male\",\"No\",26],[82.0,0,\"Yes\",30,0,200000.0,1.2,132,\"Male\",\"Yes\",26],[94.0,0,\"Yes\",38,1,263358.03,1.83,134,\"Male\",\"No\",27],[85.0,0,\"No\",45,0,360000.0,3.0,132,\"Male\",\"No\",28],[50.0,1,\"Yes\",35,1,319000.0,1.0,128,\"Female\",\"No\",28],[65.0,0,\"Yes\",50,1,188000.0,1.0,140,\"Male\",\"No\",29],[69.0,0,\"Yes\",35,0,228000.0,3.5,134,\"Male\",\"No\",30],[90.0,1,\"Yes\",50,0,226000.0,1.0,134,\"Male\",\"No\",30],[82.0,1,\"Yes\",50,1,321000.0,1.0,145,\"Female\",\"No\",30],[60.0,0,\"Yes\",38,0,329000.0,3.0,142,\"Female\",\"No\",30],[70.0,0,\"No\",20,1,263358.03,1.83,134,\"Male\",\"Yes\",31],[50.0,0,\"Yes\",30,1,153000.0,1.2,136,\"Female\",\"Yes\",32],[70.0,0,\"Yes\",45,1,185000.0,1.2,139,\"Male\",\"Yes\",33],[60.0,1,\"Yes\",60,0,194000.0,1.1,142,\"Female\",\"No\",33],[50.0,0,\"Yes\",38,0,310000.0,1.9,135,\"Male\",\"Yes\",35],[51.0,0,\"No\",25,1,271000.0,0.9,130,\"Male\",\"No\",38],[60.0,0,\"Yes\",38,1,451000.0,0.6,138,\"Male\",\"Yes\",40],[80.0,1,\"No\",20,1,140000.0,4.4,133,\"Male\",\"No\",41],[57.0,1,\"No\",30,0,395000.0,1.0,140,\"Female\",\"No\",42],[68.0,1,\"No\",25,1,166000.0,1.0,138,\"Male\",\"No\",43],[53.0,1,\"No\",20,1,418000.0,1.4,139,\"Female\",\"No\",43],[60.0,0,\"Yes\",62,0,263358.03,6.8,146,\"Female\",\"No\",43],[70.0,1,\"Yes\",50,1,351000.0,1.0,134,\"Female\",\"No\",44],[60.0,1,\"Yes\",38,0,255000.0,2.2,132,\"Female\",\"Yes\",45],[95.0,1,\"No\",30,0,461000.0,2.0,132,\"Male\",\"No\",50],[49.0,0,\"No\",20,1,319000.0,1.1,136,\"Male\",\"Yes\",55],[72.0,0,\"Yes\",20,1,254000.0,1.3,136,\"Male\",\"Yes\",59],[45.0,0,\"Yes\",25,1,390000.0,1.0,139,\"Male\",\"No\",60],[50.0,0,\"No\",40,1,216000.0,2.3,131,\"Female\",\"No\",60],[45.0,0,\"No\",35,0,385000.0,1.0,145,\"Male\",\"No\",61],[60.0,0,\"No\",20,0,119000.0,2.9,127,\"Male\",\"Yes\",64],[42.0,1,\"Yes\",15,0,213000.0,1.3,136,\"Female\",\"No\",65],[72.0,1,\"No\",25,0,274000.0,1.0,140,\"Male\",\"Yes\",65],[70.0,0,\"No\",25,0,244000.0,1.2,142,\"Female\",\"No\",66],[65.0,0,\"Yes\",25,0,497000.0,1.83,135,\"Male\",\"No\",67],[85.0,0,\"No\",35,0,243000.0,1.0,132,\"Male\",\"Yes\",72],[69.0,0,\"No\",20,0,266000.0,1.2,134,\"Male\",\"Yes\",73],[60.0,1,\"No\",20,0,204000.0,0.7,139,\"Male\",\"Yes\",73],[60.0,1,\"Yes\",25,0,196000.0,2.5,132,\"Female\",\"No\",77],[59.0,1,\"Yes\",25,1,302000.0,1.0,141,\"Female\",\"No\",78],[60.0,1,\"No\",25,0,210000.0,1.7,135,\"Male\",\"No\",82],[72.0,1,\"No\",30,1,621000.0,1.7,138,\"Female\",\"Yes\",88],[85.0,0,\"No\",60,0,306000.0,1.2,132,\"Male\",\"Yes\",90],[70.0,1,\"No\",60,0,351000.0,1.3,137,\"Female\",\"No\",90],[86.0,0,\"No\",38,0,263358.03,1.83,134,\"Female\",\"No\",95],[60.0,0,\"No\",40,0,217000.0,3.7,134,\"Male\",\"No\",96],[46.0,0,\"Yes\",17,1,271000.0,2.1,124,\"Female\",\"No\",100],[80.0,0,\"No\",38,0,263358.03,1.1,134,\"Male\",\"No\",109],[72.0,1,\"No\",25,1,338000.0,1.7,139,\"Male\",\"Yes\",111],[75.0,1,\"No\",30,0,225000.0,1.83,134,\"Male\",\"No\",113],[72.0,0,\"No\",45,1,235000.0,2.5,135,\"Female\",\"No\",115],[50.0,1,\"Yes\",35,0,75000.0,0.9,142,\"Female\",\"No\",126],[45.0,0,\"Yes\",30,0,334000.0,1.1,139,\"Male\",\"No\",129],[80.0,0,\"Yes\",38,1,192000.0,1.3,135,\"Female\",\"No\",130],[59.0,0,\"Yes\",20,0,70000.0,2.4,134,\"Male\",\"No\",135],[59.0,1,\"Yes\",25,0,221000.0,1.0,136,\"Male\",\"Yes\",150],[65.0,0,\"Yes\",25,0,265000.0,1.2,136,\"Male\",\"Yes\",154],[75.0,0,\"No\",38,1,224000.0,2.5,134,\"Male\",\"No\",162],[58.0,1,\"No\",25,0,219000.0,1.2,137,\"Male\",\"Yes\",170],[60.667,1,\"Yes\",30,0,389000.0,1.5,136,\"Male\",\"No\",171],[50.0,0,\"No\",50,0,153000.0,0.6,134,\"Female\",\"No\",172],[60.0,0,\"Yes\",25,0,365000.0,2.1,144,\"Female\",\"No\",172],[45.0,0,\"No\",20,1,126000.0,1.6,135,\"Male\",\"No\",180],[77.0,1,\"No\",45,0,223000.0,1.8,145,\"Male\",\"No\",180],[48.0,1,\"Yes\",30,1,244000.0,1.6,130,\"Female\",\"No\",193],[54.0,1,\"No\",70,1,151000.0,9.0,137,\"Female\",\"No\",196],[73.0,0,\"No\",20,0,263358.03,1.83,134,\"Male\",\"No\",198],[60.0,0,\"No\",30,0,62000.0,1.7,127,\"Female\",\"No\",207],[55.0,0,\"No\",25,0,314000.0,1.1,138,\"Male\",\"No\",214],[65.0,1,\"Yes\",25,0,198000.0,1.4,129,\"Male\",\"No\",235],[55.0,0,\"No\",20,0,263358.03,1.83,134,\"Male\",\"Yes\",241]],\"hovertemplate\":\"death_event=%{x}<br>creatinine_phosphokinase=%{y}<br>age=%{customdata[0]}<br>anaemia=%{customdata[1]}<br>diabetes=%{customdata[2]}<br>ejection_fraction=%{customdata[3]}<br>high_blood_pressure=%{customdata[4]}<br>platelets=%{customdata[5]}<br>serum_creatinine=%{customdata[6]}<br>serum_sodium=%{customdata[7]}<br>sex=%{customdata[8]}<br>smoking=%{customdata[9]}<br>time=%{customdata[10]}<extra></extra>\",\"legendgroup\":\"Dead\",\"marker\":{\"color\":\"#636efa\"},\"name\":\"Dead\",\"offsetgroup\":\"Dead\",\"orientation\":\"v\",\"points\":\"all\",\"scalegroup\":\"True\",\"showlegend\":true,\"x\":[\"Dead\",\"Dead\",\"Dead\",\"Dead\",\"Dead\",\"Dead\",\"Dead\",\"Dead\",\"Dead\",\"Dead\",\"Dead\",\"Dead\",\"Dead\",\"Dead\",\"Dead\",\"Dead\",\"Dead\",\"Dead\",\"Dead\",\"Dead\",\"Dead\",\"Dead\",\"Dead\",\"Dead\",\"Dead\",\"Dead\",\"Dead\",\"Dead\",\"Dead\",\"Dead\",\"Dead\",\"Dead\",\"Dead\",\"Dead\",\"Dead\",\"Dead\",\"Dead\",\"Dead\",\"Dead\",\"Dead\",\"Dead\",\"Dead\",\"Dead\",\"Dead\",\"Dead\",\"Dead\",\"Dead\",\"Dead\",\"Dead\",\"Dead\",\"Dead\",\"Dead\",\"Dead\",\"Dead\",\"Dead\",\"Dead\",\"Dead\",\"Dead\",\"Dead\",\"Dead\",\"Dead\",\"Dead\",\"Dead\",\"Dead\",\"Dead\",\"Dead\",\"Dead\",\"Dead\",\"Dead\",\"Dead\",\"Dead\",\"Dead\",\"Dead\",\"Dead\",\"Dead\",\"Dead\",\"Dead\",\"Dead\",\"Dead\",\"Dead\",\"Dead\",\"Dead\",\"Dead\",\"Dead\",\"Dead\",\"Dead\",\"Dead\",\"Dead\",\"Dead\",\"Dead\",\"Dead\",\"Dead\",\"Dead\",\"Dead\",\"Dead\",\"Dead\"],\"x0\":\" \",\"xaxis\":\"x\",\"y\":[582,7861,146,111,160,47,246,315,157,123,81,231,981,168,379,149,582,125,582,128,220,582,148,112,122,60,70,582,23,249,94,582,60,855,235,582,124,571,588,582,1380,582,553,129,577,91,3964,69,260,371,789,364,7702,318,582,68,250,110,161,113,5882,582,47,76,280,154,328,129,143,582,582,168,805,943,582,233,2334,2442,776,66,176,395,99,145,104,582,1896,582,418,131,427,582,166,2017,258,1199],\"y0\":\" \",\"yaxis\":\"y\",\"type\":\"violin\"},{\"alignmentgroup\":\"True\",\"box\":{\"visible\":true},\"customdata\":[[49.0,1,\"No\",30,1,427000.0,1.0,138,\"Female\",\"No\",12],[65.0,1,\"No\",25,1,276000.0,1.3,137,\"Female\",\"No\",16],[53.0,0,\"Yes\",60,0,368000.0,0.8,135,\"Male\",\"No\",22],[50.0,1,\"Yes\",30,0,302000.0,1.2,138,\"Female\",\"No\",29],[60.0,0,\"Yes\",30,0,305000.0,2.3,137,\"Male\",\"No\",30],[72.0,0,\"Yes\",50,1,218000.0,1.0,134,\"Male\",\"No\",33],[70.0,1,\"No\",35,0,223000.0,2.7,138,\"Male\",\"Yes\",54],[60.0,1,\"No\",40,0,216000.0,0.6,138,\"Male\",\"Yes\",54],[55.0,0,\"No\",35,0,254000.0,1.1,139,\"Male\",\"Yes\",60],[45.0,0,\"No\",80,0,263358.03,1.18,137,\"Female\",\"No\",63],[41.0,0,\"No\",40,0,374000.0,0.8,140,\"Male\",\"Yes\",68],[58.0,0,\"Yes\",35,0,122000.0,0.9,139,\"Male\",\"Yes\",71],[65.0,0,\"Yes\",50,0,149000.0,1.3,137,\"Male\",\"Yes\",72],[70.0,0,\"No\",60,1,317000.0,0.8,140,\"Female\",\"Yes\",74],[42.0,0,\"Yes\",40,0,237000.0,1.2,140,\"Male\",\"No\",74],[75.0,1,\"Yes\",38,1,283000.0,0.6,131,\"Male\",\"Yes\",74],[55.0,0,\"No\",45,1,324000.0,0.9,140,\"Female\",\"No\",74],[70.0,0,\"No\",40,0,293000.0,1.7,136,\"Female\",\"No\",75],[67.0,0,\"No\",50,0,263358.03,1.18,137,\"Male\",\"Yes\",76],[79.0,1,\"No\",50,1,172000.0,1.8,133,\"Male\",\"No\",78],[51.0,0,\"No\",50,0,406000.0,0.7,140,\"Male\",\"No\",79],[55.0,0,\"No\",35,1,173000.0,1.1,137,\"Male\",\"No\",79],[65.0,1,\"Yes\",60,1,304000.0,0.8,140,\"Male\",\"No\",79],[44.0,0,\"Yes\",40,1,235000.0,0.7,139,\"Male\",\"No\",79],[57.0,1,\"No\",25,1,181000.0,1.1,144,\"Male\",\"No\",79],[70.0,0,\"Yes\",45,0,249000.0,0.8,136,\"Male\",\"Yes\",80],[60.0,0,\"Yes\",45,0,297000.0,1.0,133,\"Male\",\"No\",80],[42.0,0,\"No\",60,0,263358.03,1.18,137,\"Female\",\"No\",82],[58.0,0,\"Yes\",38,1,327000.0,0.7,142,\"Female\",\"No\",83],[58.0,1,\"No\",60,1,219000.0,1.0,141,\"Male\",\"No\",83],[63.0,1,\"Yes\",25,1,254000.0,1.3,134,\"Male\",\"No\",83],[70.0,1,\"No\",60,0,255000.0,1.1,136,\"Female\",\"No\",85],[60.0,1,\"Yes\",25,1,318000.0,1.2,137,\"Female\",\"No\",85],[63.0,1,\"Yes\",40,0,221000.0,1.1,140,\"Female\",\"No\",86],[65.0,1,\"No\",25,0,298000.0,1.1,141,\"Male\",\"No\",87],[75.0,0,\"No\",45,1,263358.03,1.18,137,\"Male\",\"No\",87],[80.0,0,\"No\",25,0,149000.0,1.1,144,\"Male\",\"Yes\",87],[42.0,0,\"No\",30,0,226000.0,1.0,140,\"Male\",\"Yes\",87],[60.0,0,\"No\",50,1,286000.0,2.3,143,\"Female\",\"No\",87],[55.0,0,\"No\",45,0,263000.0,1.3,137,\"Male\",\"No\",88],[45.0,1,\"Yes\",35,0,226000.0,0.9,138,\"Male\",\"No\",88],[63.0,0,\"No\",38,0,304000.0,1.1,133,\"Male\",\"Yes\",88],[45.0,0,\"Yes\",35,0,850000.0,1.3,142,\"Male\",\"Yes\",88],[55.0,0,\"No\",35,0,228000.0,1.2,135,\"Male\",\"Yes\",90],[50.0,0,\"Yes\",25,0,252000.0,1.6,136,\"Male\",\"No\",90],[60.0,1,\"Yes\",40,1,328000.0,1.2,126,\"Male\",\"No\",91],[58.0,1,\"No\",40,0,164000.0,1.0,139,\"Female\",\"No\",91],[60.0,1,\"Yes\",60,1,271000.0,0.7,136,\"Female\",\"No\",94],[85.0,1,\"No\",60,0,507000.0,3.2,138,\"Female\",\"No\",94],[65.0,1,\"Yes\",60,1,203000.0,0.9,140,\"Female\",\"No\",94],[60.0,1,\"No\",60,1,210000.0,1.5,135,\"Male\",\"Yes\",95],[66.0,1,\"Yes\",38,1,162000.0,1.0,136,\"Female\",\"No\",95],[60.0,0,\"Yes\",38,0,228000.0,0.75,140,\"Female\",\"No\",95],[60.0,1,\"No\",30,1,127000.0,0.9,145,\"Female\",\"No\",95],[43.0,1,\"No\",50,0,237000.0,1.3,135,\"Female\",\"No\",97],[58.0,1,\"Yes\",60,0,300000.0,0.8,137,\"Female\",\"No\",104],[61.0,0,\"No\",30,1,267000.0,0.7,136,\"Male\",\"Yes\",104],[53.0,1,\"Yes\",35,0,227000.0,3.4,145,\"Male\",\"No\",105],[53.0,1,\"No\",60,1,249000.0,0.7,138,\"Male\",\"Yes\",106],[60.0,1,\"Yes\",45,0,250000.0,6.1,131,\"Male\",\"No\",107],[46.0,0,\"No\",40,1,263358.03,1.18,137,\"Female\",\"No\",107],[63.0,0,\"No\",60,1,295000.0,1.3,145,\"Male\",\"Yes\",107],[81.0,0,\"No\",35,0,231000.0,1.18,137,\"Male\",\"Yes\",107],[75.0,0,\"No\",40,0,263358.03,1.18,137,\"Male\",\"No\",107],[65.0,1,\"Yes\",60,0,172000.0,0.9,137,\"Female\",\"No\",107],[68.0,1,\"No\",25,0,305000.0,2.1,130,\"Male\",\"No\",108],[62.0,0,\"Yes\",35,0,221000.0,1.0,136,\"Female\",\"No\",108],[50.0,0,\"No\",30,1,211000.0,0.8,138,\"Male\",\"No\",108],[46.0,1,\"No\",35,0,348000.0,0.9,140,\"Female\",\"No\",109],[50.0,0,\"Yes\",30,0,329000.0,0.9,132,\"Female\",\"No\",109],[61.0,1,\"No\",40,1,229000.0,0.9,141,\"Female\",\"No\",110],[50.0,0,\"No\",30,0,266000.0,0.7,141,\"Male\",\"Yes\",112],[52.0,0,\"No\",30,0,218000.0,0.7,136,\"Male\",\"Yes\",112],[64.0,0,\"No\",60,0,242000.0,1.0,137,\"Male\",\"No\",113],[60.0,0,\"No\",35,1,228000.0,0.9,136,\"Male\",\"No\",115],[62.0,0,\"Yes\",60,1,244000.0,0.9,139,\"Male\",\"No\",117],[50.0,0,\"No\",45,1,184000.0,0.9,134,\"Male\",\"Yes\",118],[50.0,0,\"Yes\",35,0,263358.03,1.18,137,\"Male\",\"Yes\",119],[65.0,1,\"No\",35,1,235000.0,0.8,136,\"Female\",\"No\",120],[60.0,1,\"Yes\",25,0,194000.0,1.7,140,\"Male\",\"No\",120],[52.0,1,\"No\",35,0,277000.0,1.4,136,\"Female\",\"No\",120],[50.0,0,\"No\",25,0,262000.0,1.0,136,\"Male\",\"Yes\",120],[85.0,1,\"No\",50,0,235000.0,1.3,134,\"Male\",\"No\",121],[59.0,1,\"No\",45,1,362000.0,1.1,139,\"Male\",\"Yes\",121],[66.0,1,\"No\",40,1,242000.0,1.2,134,\"Male\",\"No\",121],[45.0,1,\"No\",35,0,174000.0,0.8,139,\"Male\",\"Yes\",121],[63.0,1,\"No\",40,0,448000.0,0.9,137,\"Male\",\"Yes\",123],[53.0,0,\"No\",60,0,220000.0,0.7,133,\"Male\",\"Yes\",134],[65.0,0,\"Yes\",40,0,270000.0,1.0,138,\"Female\",\"No\",140],[70.0,0,\"No\",35,1,305000.0,0.8,133,\"Female\",\"No\",145],[51.0,1,\"Yes\",35,0,263358.03,1.5,136,\"Male\",\"Yes\",145],[52.0,0,\"No\",40,0,325000.0,0.9,140,\"Male\",\"Yes\",146],[70.0,1,\"No\",60,1,176000.0,1.1,145,\"Male\",\"Yes\",146],[50.0,1,\"No\",20,0,189000.0,0.8,139,\"Male\",\"No\",146],[65.0,0,\"Yes\",35,1,281000.0,0.9,137,\"Male\",\"Yes\",146],[60.0,1,\"No\",60,0,337000.0,1.0,138,\"Male\",\"Yes\",146],[69.0,0,\"No\",40,0,105000.0,1.0,135,\"Male\",\"Yes\",147],[49.0,1,\"No\",50,0,132000.0,1.0,140,\"Female\",\"No\",147],[63.0,1,\"Yes\",60,0,267000.0,1.2,145,\"Male\",\"No\",147],[55.0,0,\"No\",40,0,279000.0,0.7,140,\"Male\",\"Yes\",147],[40.0,0,\"Yes\",30,0,303000.0,0.9,136,\"Male\",\"No\",148],[60.667,1,\"Yes\",40,1,201000.0,1.0,136,\"Female\",\"No\",172],[40.0,0,\"No\",45,1,275000.0,0.9,140,\"Female\",\"No\",174],[80.0,0,\"Yes\",35,0,350000.0,2.1,134,\"Male\",\"No\",174],[64.0,1,\"No\",60,0,309000.0,1.5,135,\"Female\",\"No\",174],[50.0,1,\"Yes\",40,0,260000.0,0.7,130,\"Male\",\"No\",175],[73.0,1,\"Yes\",30,0,160000.0,1.18,142,\"Male\",\"Yes\",180],[45.0,0,\"Yes\",38,1,263358.03,1.18,137,\"Female\",\"No\",185],[65.0,0,\"No\",30,0,259000.0,0.8,138,\"Female\",\"No\",186],[50.0,1,\"Yes\",20,1,279000.0,1.0,134,\"Female\",\"No\",186],[60.0,0,\"Yes\",35,0,263358.03,1.8,113,\"Male\",\"Yes\",186],[63.0,1,\"No\",45,0,73000.0,0.7,137,\"Male\",\"No\",186],[45.0,0,\"Yes\",60,1,377000.0,1.0,136,\"Male\",\"No\",186],[70.0,0,\"No\",60,1,220000.0,0.9,138,\"Male\",\"No\",186],[60.0,0,\"No\",25,1,212000.0,3.5,136,\"Male\",\"Yes\",187],[78.0,1,\"No\",40,0,277000.0,0.7,137,\"Male\",\"Yes\",187],[50.0,1,\"Yes\",45,0,362000.0,1.0,136,\"Female\",\"No\",187],[40.0,1,\"No\",40,0,226000.0,0.8,141,\"Female\",\"No\",187],[85.0,0,\"No\",38,0,186000.0,0.9,136,\"Male\",\"No\",187],[60.0,1,\"Yes\",40,0,283000.0,1.0,141,\"Female\",\"No\",187],[49.0,0,\"Yes\",35,1,268000.0,0.8,130,\"Female\",\"No\",187],[70.0,0,\"Yes\",17,1,389000.0,1.0,136,\"Male\",\"Yes\",188],[50.0,0,\"No\",62,1,147000.0,0.8,140,\"Male\",\"Yes\",192],[78.0,0,\"No\",50,0,481000.0,1.4,138,\"Male\",\"Yes\",192],[65.0,1,\"No\",35,1,290000.0,0.8,134,\"Male\",\"No\",194],[73.0,0,\"No\",35,1,203000.0,1.3,134,\"Male\",\"No\",195],[70.0,0,\"No\",50,1,358000.0,0.9,141,\"Female\",\"No\",196],[68.0,1,\"Yes\",35,0,271000.0,1.1,134,\"Male\",\"No\",197],[55.0,0,\"Yes\",35,1,371000.0,0.7,140,\"Female\",\"No\",197],[65.0,0,\"No\",50,0,194000.0,1.1,145,\"Male\",\"Yes\",200],[42.0,1,\"No\",35,0,365000.0,1.1,139,\"Male\",\"Yes\",201],[47.0,0,\"No\",25,0,130000.0,0.8,134,\"Male\",\"No\",201],[58.0,0,\"Yes\",25,0,504000.0,1.0,138,\"Male\",\"No\",205],[75.0,0,\"Yes\",60,0,265000.0,1.4,125,\"Female\",\"No\",205],[58.0,1,\"No\",25,0,189000.0,1.3,132,\"Male\",\"Yes\",205],[55.0,1,\"No\",35,1,141000.0,1.0,140,\"Male\",\"No\",206],[65.0,0,\"No\",25,0,237000.0,5.0,130,\"Female\",\"No\",207],[72.0,0,\"No\",25,0,274000.0,1.2,134,\"Female\",\"No\",207],[70.0,0,\"No\",35,0,185000.0,1.1,134,\"Male\",\"Yes\",208],[40.0,1,\"No\",35,0,255000.0,0.9,137,\"Male\",\"No\",209],[53.0,1,\"No\",38,0,330000.0,1.4,137,\"Male\",\"Yes\",209],[53.0,1,\"No\",45,0,305000.0,1.1,137,\"Male\",\"Yes\",209],[77.0,1,\"No\",50,1,406000.0,1.1,137,\"Male\",\"No\",209],[75.0,0,\"No\",50,1,248000.0,1.1,148,\"Male\",\"No\",209],[70.0,0,\"No\",30,0,173000.0,1.2,132,\"Male\",\"No\",210],[65.0,1,\"Yes\",40,0,257000.0,1.0,136,\"Female\",\"No\",210],[55.0,1,\"No\",45,0,263358.03,1.18,137,\"Male\",\"Yes\",211],[70.0,0,\"Yes\",35,1,533000.0,1.3,139,\"Female\",\"No\",212],[65.0,0,\"Yes\",30,0,249000.0,1.3,136,\"Male\",\"Yes\",212],[40.0,0,\"No\",35,0,255000.0,1.1,136,\"Male\",\"Yes\",212],[73.0,1,\"No\",40,1,220000.0,0.9,141,\"Female\",\"No\",213],[54.0,0,\"Yes\",38,0,264000.0,1.8,134,\"Male\",\"No\",213],[61.0,1,\"Yes\",38,0,282000.0,1.4,137,\"Male\",\"No\",213],[64.0,0,\"No\",25,0,246000.0,2.4,135,\"Male\",\"No\",214],[40.0,0,\"No\",35,0,301000.0,1.0,142,\"Male\",\"Yes\",214],[53.0,0,\"Yes\",40,0,223000.0,1.2,130,\"Female\",\"No\",214],[50.0,0,\"No\",30,1,404000.0,0.5,139,\"Female\",\"No\",214],[55.0,0,\"Yes\",35,0,231000.0,0.8,143,\"Female\",\"No\",215],[50.0,0,\"No\",45,1,274000.0,1.0,133,\"Male\",\"No\",215],[70.0,0,\"Yes\",35,1,236000.0,1.2,132,\"Female\",\"No\",215],[53.0,1,\"No\",60,1,263358.03,1.0,139,\"Male\",\"No\",215],[52.0,1,\"Yes\",30,1,334000.0,1.0,142,\"Male\",\"Yes\",216],[65.0,0,\"No\",38,0,294000.0,1.7,139,\"Female\",\"No\",220],[58.0,0,\"Yes\",38,1,253000.0,1.0,139,\"Male\",\"No\",230],[45.0,1,\"Yes\",25,0,233000.0,0.8,135,\"Male\",\"No\",230],[53.0,0,\"No\",50,0,308000.0,0.7,135,\"Male\",\"Yes\",231],[55.0,0,\"No\",40,0,203000.0,1.0,138,\"Male\",\"No\",233],[62.0,1,\"No\",40,0,283000.0,0.7,133,\"Female\",\"No\",233],[68.0,1,\"Yes\",60,0,208000.0,1.0,140,\"Female\",\"No\",237],[61.0,0,\"Yes\",38,0,147000.0,1.2,141,\"Male\",\"No\",237],[50.0,1,\"No\",35,0,362000.0,0.9,140,\"Male\",\"Yes\",240],[56.0,1,\"Yes\",38,0,133000.0,1.7,140,\"Male\",\"No\",244],[45.0,0,\"Yes\",38,0,302000.0,0.9,140,\"Female\",\"No\",244],[40.0,0,\"Yes\",35,0,222000.0,1.0,132,\"Male\",\"No\",244],[44.0,0,\"Yes\",30,1,263358.03,1.6,130,\"Male\",\"Yes\",244],[51.0,0,\"Yes\",40,0,221000.0,0.9,134,\"Female\",\"No\",244],[67.0,0,\"No\",38,0,215000.0,1.2,133,\"Female\",\"No\",245],[42.0,0,\"No\",40,0,189000.0,0.7,140,\"Male\",\"No\",245],[60.0,1,\"Yes\",30,0,150000.0,1.0,137,\"Male\",\"Yes\",245],[45.0,0,\"No\",38,1,422000.0,0.8,137,\"Female\",\"No\",245],[70.0,0,\"No\",35,0,327000.0,1.1,142,\"Female\",\"No\",245],[70.0,0,\"Yes\",38,0,25100.0,1.1,140,\"Male\",\"No\",246],[50.0,1,\"Yes\",30,0,232000.0,0.7,136,\"Female\",\"No\",246],[55.0,0,\"Yes\",38,0,451000.0,1.3,136,\"Female\",\"No\",246],[70.0,0,\"Yes\",40,0,241000.0,1.0,137,\"Male\",\"No\",247],[70.0,0,\"No\",40,0,51000.0,2.7,136,\"Male\",\"Yes\",250],[42.0,0,\"No\",30,0,215000.0,3.8,128,\"Male\",\"Yes\",250],[65.0,0,\"No\",38,0,263358.03,1.1,138,\"Male\",\"Yes\",250],[50.0,1,\"No\",40,0,279000.0,0.8,141,\"Male\",\"No\",250],[55.0,1,\"Yes\",40,0,336000.0,1.2,135,\"Male\",\"No\",250],[60.0,0,\"No\",35,0,279000.0,1.7,140,\"Male\",\"No\",250],[45.0,0,\"Yes\",55,0,543000.0,1.0,132,\"Female\",\"No\",250],[65.0,0,\"Yes\",35,0,263358.03,1.1,142,\"Female\",\"No\",256],[90.0,1,\"No\",38,0,390000.0,0.9,144,\"Female\",\"No\",256],[45.0,0,\"Yes\",55,0,222000.0,0.8,141,\"Female\",\"No\",257],[60.0,0,\"No\",35,0,133000.0,1.4,139,\"Male\",\"No\",258],[52.0,0,\"Yes\",38,0,382000.0,1.0,140,\"Male\",\"Yes\",258],[63.0,1,\"Yes\",35,0,179000.0,0.9,136,\"Male\",\"Yes\",270],[62.0,0,\"Yes\",38,1,155000.0,1.1,143,\"Male\",\"Yes\",270],[55.0,0,\"No\",38,0,270000.0,1.2,139,\"Female\",\"No\",271],[45.0,0,\"Yes\",60,0,742000.0,0.8,138,\"Female\",\"No\",278],[45.0,0,\"No\",38,0,140000.0,1.4,140,\"Male\",\"Yes\",280],[50.0,0,\"No\",45,0,395000.0,1.6,136,\"Male\",\"Yes\",285]],\"hovertemplate\":\"death_event=%{x}<br>creatinine_phosphokinase=%{y}<br>age=%{customdata[0]}<br>anaemia=%{customdata[1]}<br>diabetes=%{customdata[2]}<br>ejection_fraction=%{customdata[3]}<br>high_blood_pressure=%{customdata[4]}<br>platelets=%{customdata[5]}<br>serum_creatinine=%{customdata[6]}<br>serum_sodium=%{customdata[7]}<br>sex=%{customdata[8]}<br>smoking=%{customdata[9]}<br>time=%{customdata[10]}<extra></extra>\",\"legendgroup\":\"Alive\",\"marker\":{\"color\":\"#EF553B\"},\"name\":\"Alive\",\"offsetgroup\":\"Alive\",\"orientation\":\"v\",\"points\":\"all\",\"scalegroup\":\"True\",\"showlegend\":true,\"x\":[\"Alive\",\"Alive\",\"Alive\",\"Alive\",\"Alive\",\"Alive\",\"Alive\",\"Alive\",\"Alive\",\"Alive\",\"Alive\",\"Alive\",\"Alive\",\"Alive\",\"Alive\",\"Alive\",\"Alive\",\"Alive\",\"Alive\",\"Alive\",\"Alive\",\"Alive\",\"Alive\",\"Alive\",\"Alive\",\"Alive\",\"Alive\",\"Alive\",\"Alive\",\"Alive\",\"Alive\",\"Alive\",\"Alive\",\"Alive\",\"Alive\",\"Alive\",\"Alive\",\"Alive\",\"Alive\",\"Alive\",\"Alive\",\"Alive\",\"Alive\",\"Alive\",\"Alive\",\"Alive\",\"Alive\",\"Alive\",\"Alive\",\"Alive\",\"Alive\",\"Alive\",\"Alive\",\"Alive\",\"Alive\",\"Alive\",\"Alive\",\"Alive\",\"Alive\",\"Alive\",\"Alive\",\"Alive\",\"Alive\",\"Alive\",\"Alive\",\"Alive\",\"Alive\",\"Alive\",\"Alive\",\"Alive\",\"Alive\",\"Alive\",\"Alive\",\"Alive\",\"Alive\",\"Alive\",\"Alive\",\"Alive\",\"Alive\",\"Alive\",\"Alive\",\"Alive\",\"Alive\",\"Alive\",\"Alive\",\"Alive\",\"Alive\",\"Alive\",\"Alive\",\"Alive\",\"Alive\",\"Alive\",\"Alive\",\"Alive\",\"Alive\",\"Alive\",\"Alive\",\"Alive\",\"Alive\",\"Alive\",\"Alive\",\"Alive\",\"Alive\",\"Alive\",\"Alive\",\"Alive\",\"Alive\",\"Alive\",\"Alive\",\"Alive\",\"Alive\",\"Alive\",\"Alive\",\"Alive\",\"Alive\",\"Alive\",\"Alive\",\"Alive\",\"Alive\",\"Alive\",\"Alive\",\"Alive\",\"Alive\",\"Alive\",\"Alive\",\"Alive\",\"Alive\",\"Alive\",\"Alive\",\"Alive\",\"Alive\",\"Alive\",\"Alive\",\"Alive\",\"Alive\",\"Alive\",\"Alive\",\"Alive\",\"Alive\",\"Alive\",\"Alive\",\"Alive\",\"Alive\",\"Alive\",\"Alive\",\"Alive\",\"Alive\",\"Alive\",\"Alive\",\"Alive\",\"Alive\",\"Alive\",\"Alive\",\"Alive\",\"Alive\",\"Alive\",\"Alive\",\"Alive\",\"Alive\",\"Alive\",\"Alive\",\"Alive\",\"Alive\",\"Alive\",\"Alive\",\"Alive\",\"Alive\",\"Alive\",\"Alive\",\"Alive\",\"Alive\",\"Alive\",\"Alive\",\"Alive\",\"Alive\",\"Alive\",\"Alive\",\"Alive\",\"Alive\",\"Alive\",\"Alive\",\"Alive\",\"Alive\",\"Alive\",\"Alive\",\"Alive\",\"Alive\",\"Alive\",\"Alive\",\"Alive\",\"Alive\",\"Alive\",\"Alive\",\"Alive\",\"Alive\",\"Alive\",\"Alive\",\"Alive\",\"Alive\",\"Alive\",\"Alive\",\"Alive\",\"Alive\"],\"x0\":\" \",\"xaxis\":\"x\",\"y\":[80,52,63,159,2656,127,75,607,109,582,148,582,224,92,102,203,336,69,582,55,78,47,68,84,115,66,897,582,144,133,514,59,156,61,305,582,898,5209,53,748,1876,936,292,60,369,754,400,96,102,113,737,68,96,582,358,200,248,270,1808,1082,719,193,4540,582,59,646,281,1548,291,482,84,185,132,1610,2261,30,115,1846,335,231,58,250,910,129,72,130,582,196,582,835,582,3966,171,115,198,95,1419,69,122,835,478,151,244,582,62,121,231,582,167,582,1211,1767,308,97,59,64,167,101,212,2281,972,212,582,224,135,582,1202,1021,582,118,86,582,582,675,57,2794,56,211,93,129,707,582,109,119,232,720,180,81,582,90,1185,582,80,143,624,207,2522,572,245,88,446,191,326,132,66,56,66,655,157,582,298,135,582,582,582,582,213,64,257,582,618,582,1051,84,2695,582,64,1688,54,170,253,582,892,337,615,320,190,103,61,1820,2060,2413,196],\"y0\":\" \",\"yaxis\":\"y\",\"type\":\"violin\"}],                        {\"template\":{\"data\":{\"bar\":[{\"error_x\":{\"color\":\"#2a3f5f\"},\"error_y\":{\"color\":\"#2a3f5f\"},\"marker\":{\"line\":{\"color\":\"#E5ECF6\",\"width\":0.5},\"pattern\":{\"fillmode\":\"overlay\",\"size\":10,\"solidity\":0.2}},\"type\":\"bar\"}],\"barpolar\":[{\"marker\":{\"line\":{\"color\":\"#E5ECF6\",\"width\":0.5},\"pattern\":{\"fillmode\":\"overlay\",\"size\":10,\"solidity\":0.2}},\"type\":\"barpolar\"}],\"carpet\":[{\"aaxis\":{\"endlinecolor\":\"#2a3f5f\",\"gridcolor\":\"white\",\"linecolor\":\"white\",\"minorgridcolor\":\"white\",\"startlinecolor\":\"#2a3f5f\"},\"baxis\":{\"endlinecolor\":\"#2a3f5f\",\"gridcolor\":\"white\",\"linecolor\":\"white\",\"minorgridcolor\":\"white\",\"startlinecolor\":\"#2a3f5f\"},\"type\":\"carpet\"}],\"choropleth\":[{\"colorbar\":{\"outlinewidth\":0,\"ticks\":\"\"},\"type\":\"choropleth\"}],\"contour\":[{\"colorbar\":{\"outlinewidth\":0,\"ticks\":\"\"},\"colorscale\":[[0.0,\"#0d0887\"],[0.1111111111111111,\"#46039f\"],[0.2222222222222222,\"#7201a8\"],[0.3333333333333333,\"#9c179e\"],[0.4444444444444444,\"#bd3786\"],[0.5555555555555556,\"#d8576b\"],[0.6666666666666666,\"#ed7953\"],[0.7777777777777778,\"#fb9f3a\"],[0.8888888888888888,\"#fdca26\"],[1.0,\"#f0f921\"]],\"type\":\"contour\"}],\"contourcarpet\":[{\"colorbar\":{\"outlinewidth\":0,\"ticks\":\"\"},\"type\":\"contourcarpet\"}],\"heatmap\":[{\"colorbar\":{\"outlinewidth\":0,\"ticks\":\"\"},\"colorscale\":[[0.0,\"#0d0887\"],[0.1111111111111111,\"#46039f\"],[0.2222222222222222,\"#7201a8\"],[0.3333333333333333,\"#9c179e\"],[0.4444444444444444,\"#bd3786\"],[0.5555555555555556,\"#d8576b\"],[0.6666666666666666,\"#ed7953\"],[0.7777777777777778,\"#fb9f3a\"],[0.8888888888888888,\"#fdca26\"],[1.0,\"#f0f921\"]],\"type\":\"heatmap\"}],\"heatmapgl\":[{\"colorbar\":{\"outlinewidth\":0,\"ticks\":\"\"},\"colorscale\":[[0.0,\"#0d0887\"],[0.1111111111111111,\"#46039f\"],[0.2222222222222222,\"#7201a8\"],[0.3333333333333333,\"#9c179e\"],[0.4444444444444444,\"#bd3786\"],[0.5555555555555556,\"#d8576b\"],[0.6666666666666666,\"#ed7953\"],[0.7777777777777778,\"#fb9f3a\"],[0.8888888888888888,\"#fdca26\"],[1.0,\"#f0f921\"]],\"type\":\"heatmapgl\"}],\"histogram\":[{\"marker\":{\"pattern\":{\"fillmode\":\"overlay\",\"size\":10,\"solidity\":0.2}},\"type\":\"histogram\"}],\"histogram2d\":[{\"colorbar\":{\"outlinewidth\":0,\"ticks\":\"\"},\"colorscale\":[[0.0,\"#0d0887\"],[0.1111111111111111,\"#46039f\"],[0.2222222222222222,\"#7201a8\"],[0.3333333333333333,\"#9c179e\"],[0.4444444444444444,\"#bd3786\"],[0.5555555555555556,\"#d8576b\"],[0.6666666666666666,\"#ed7953\"],[0.7777777777777778,\"#fb9f3a\"],[0.8888888888888888,\"#fdca26\"],[1.0,\"#f0f921\"]],\"type\":\"histogram2d\"}],\"histogram2dcontour\":[{\"colorbar\":{\"outlinewidth\":0,\"ticks\":\"\"},\"colorscale\":[[0.0,\"#0d0887\"],[0.1111111111111111,\"#46039f\"],[0.2222222222222222,\"#7201a8\"],[0.3333333333333333,\"#9c179e\"],[0.4444444444444444,\"#bd3786\"],[0.5555555555555556,\"#d8576b\"],[0.6666666666666666,\"#ed7953\"],[0.7777777777777778,\"#fb9f3a\"],[0.8888888888888888,\"#fdca26\"],[1.0,\"#f0f921\"]],\"type\":\"histogram2dcontour\"}],\"mesh3d\":[{\"colorbar\":{\"outlinewidth\":0,\"ticks\":\"\"},\"type\":\"mesh3d\"}],\"parcoords\":[{\"line\":{\"colorbar\":{\"outlinewidth\":0,\"ticks\":\"\"}},\"type\":\"parcoords\"}],\"pie\":[{\"automargin\":true,\"type\":\"pie\"}],\"scatter\":[{\"marker\":{\"colorbar\":{\"outlinewidth\":0,\"ticks\":\"\"}},\"type\":\"scatter\"}],\"scatter3d\":[{\"line\":{\"colorbar\":{\"outlinewidth\":0,\"ticks\":\"\"}},\"marker\":{\"colorbar\":{\"outlinewidth\":0,\"ticks\":\"\"}},\"type\":\"scatter3d\"}],\"scattercarpet\":[{\"marker\":{\"colorbar\":{\"outlinewidth\":0,\"ticks\":\"\"}},\"type\":\"scattercarpet\"}],\"scattergeo\":[{\"marker\":{\"colorbar\":{\"outlinewidth\":0,\"ticks\":\"\"}},\"type\":\"scattergeo\"}],\"scattergl\":[{\"marker\":{\"colorbar\":{\"outlinewidth\":0,\"ticks\":\"\"}},\"type\":\"scattergl\"}],\"scattermapbox\":[{\"marker\":{\"colorbar\":{\"outlinewidth\":0,\"ticks\":\"\"}},\"type\":\"scattermapbox\"}],\"scatterpolar\":[{\"marker\":{\"colorbar\":{\"outlinewidth\":0,\"ticks\":\"\"}},\"type\":\"scatterpolar\"}],\"scatterpolargl\":[{\"marker\":{\"colorbar\":{\"outlinewidth\":0,\"ticks\":\"\"}},\"type\":\"scatterpolargl\"}],\"scatterternary\":[{\"marker\":{\"colorbar\":{\"outlinewidth\":0,\"ticks\":\"\"}},\"type\":\"scatterternary\"}],\"surface\":[{\"colorbar\":{\"outlinewidth\":0,\"ticks\":\"\"},\"colorscale\":[[0.0,\"#0d0887\"],[0.1111111111111111,\"#46039f\"],[0.2222222222222222,\"#7201a8\"],[0.3333333333333333,\"#9c179e\"],[0.4444444444444444,\"#bd3786\"],[0.5555555555555556,\"#d8576b\"],[0.6666666666666666,\"#ed7953\"],[0.7777777777777778,\"#fb9f3a\"],[0.8888888888888888,\"#fdca26\"],[1.0,\"#f0f921\"]],\"type\":\"surface\"}],\"table\":[{\"cells\":{\"fill\":{\"color\":\"#EBF0F8\"},\"line\":{\"color\":\"white\"}},\"header\":{\"fill\":{\"color\":\"#C8D4E3\"},\"line\":{\"color\":\"white\"}},\"type\":\"table\"}]},\"layout\":{\"annotationdefaults\":{\"arrowcolor\":\"#2a3f5f\",\"arrowhead\":0,\"arrowwidth\":1},\"autotypenumbers\":\"strict\",\"coloraxis\":{\"colorbar\":{\"outlinewidth\":0,\"ticks\":\"\"}},\"colorscale\":{\"diverging\":[[0,\"#8e0152\"],[0.1,\"#c51b7d\"],[0.2,\"#de77ae\"],[0.3,\"#f1b6da\"],[0.4,\"#fde0ef\"],[0.5,\"#f7f7f7\"],[0.6,\"#e6f5d0\"],[0.7,\"#b8e186\"],[0.8,\"#7fbc41\"],[0.9,\"#4d9221\"],[1,\"#276419\"]],\"sequential\":[[0.0,\"#0d0887\"],[0.1111111111111111,\"#46039f\"],[0.2222222222222222,\"#7201a8\"],[0.3333333333333333,\"#9c179e\"],[0.4444444444444444,\"#bd3786\"],[0.5555555555555556,\"#d8576b\"],[0.6666666666666666,\"#ed7953\"],[0.7777777777777778,\"#fb9f3a\"],[0.8888888888888888,\"#fdca26\"],[1.0,\"#f0f921\"]],\"sequentialminus\":[[0.0,\"#0d0887\"],[0.1111111111111111,\"#46039f\"],[0.2222222222222222,\"#7201a8\"],[0.3333333333333333,\"#9c179e\"],[0.4444444444444444,\"#bd3786\"],[0.5555555555555556,\"#d8576b\"],[0.6666666666666666,\"#ed7953\"],[0.7777777777777778,\"#fb9f3a\"],[0.8888888888888888,\"#fdca26\"],[1.0,\"#f0f921\"]]},\"colorway\":[\"#636efa\",\"#EF553B\",\"#00cc96\",\"#ab63fa\",\"#FFA15A\",\"#19d3f3\",\"#FF6692\",\"#B6E880\",\"#FF97FF\",\"#FECB52\"],\"font\":{\"color\":\"#2a3f5f\"},\"geo\":{\"bgcolor\":\"white\",\"lakecolor\":\"white\",\"landcolor\":\"#E5ECF6\",\"showlakes\":true,\"showland\":true,\"subunitcolor\":\"white\"},\"hoverlabel\":{\"align\":\"left\"},\"hovermode\":\"closest\",\"mapbox\":{\"style\":\"light\"},\"paper_bgcolor\":\"white\",\"plot_bgcolor\":\"#E5ECF6\",\"polar\":{\"angularaxis\":{\"gridcolor\":\"white\",\"linecolor\":\"white\",\"ticks\":\"\"},\"bgcolor\":\"#E5ECF6\",\"radialaxis\":{\"gridcolor\":\"white\",\"linecolor\":\"white\",\"ticks\":\"\"}},\"scene\":{\"xaxis\":{\"backgroundcolor\":\"#E5ECF6\",\"gridcolor\":\"white\",\"gridwidth\":2,\"linecolor\":\"white\",\"showbackground\":true,\"ticks\":\"\",\"zerolinecolor\":\"white\"},\"yaxis\":{\"backgroundcolor\":\"#E5ECF6\",\"gridcolor\":\"white\",\"gridwidth\":2,\"linecolor\":\"white\",\"showbackground\":true,\"ticks\":\"\",\"zerolinecolor\":\"white\"},\"zaxis\":{\"backgroundcolor\":\"#E5ECF6\",\"gridcolor\":\"white\",\"gridwidth\":2,\"linecolor\":\"white\",\"showbackground\":true,\"ticks\":\"\",\"zerolinecolor\":\"white\"}},\"shapedefaults\":{\"line\":{\"color\":\"#2a3f5f\"}},\"ternary\":{\"aaxis\":{\"gridcolor\":\"white\",\"linecolor\":\"white\",\"ticks\":\"\"},\"baxis\":{\"gridcolor\":\"white\",\"linecolor\":\"white\",\"ticks\":\"\"},\"bgcolor\":\"#E5ECF6\",\"caxis\":{\"gridcolor\":\"white\",\"linecolor\":\"white\",\"ticks\":\"\"}},\"title\":{\"x\":0.05},\"xaxis\":{\"automargin\":true,\"gridcolor\":\"white\",\"linecolor\":\"white\",\"ticks\":\"\",\"title\":{\"standoff\":15},\"zerolinecolor\":\"white\",\"zerolinewidth\":2},\"yaxis\":{\"automargin\":true,\"gridcolor\":\"white\",\"linecolor\":\"white\",\"ticks\":\"\",\"title\":{\"standoff\":15},\"zerolinecolor\":\"white\",\"zerolinewidth\":2}}},\"xaxis\":{\"anchor\":\"y\",\"domain\":[0.0,1.0],\"title\":{\"text\":\"death_event\"},\"categoryorder\":\"array\",\"categoryarray\":[\"Dead\",\"Alive\"]},\"yaxis\":{\"anchor\":\"x\",\"domain\":[0.0,1.0],\"title\":{\"text\":\"creatinine_phosphokinase\"}},\"legend\":{\"title\":{\"text\":\"death_event\"},\"tracegroupgap\":0},\"margin\":{\"t\":60},\"violinmode\":\"overlay\"},                        {\"responsive\": true}                    ).then(function(){\n",
              "                            \n",
              "var gd = document.getElementById('0925d152-ca47-45e9-bbf1-e4de71968175');\n",
              "var x = new MutationObserver(function (mutations, observer) {{\n",
              "        var display = window.getComputedStyle(gd).display;\n",
              "        if (!display || display === 'none') {{\n",
              "            console.log([gd, 'removed!']);\n",
              "            Plotly.purge(gd);\n",
              "            observer.disconnect();\n",
              "        }}\n",
              "}});\n",
              "\n",
              "// Listen for the removal of the full notebook cells\n",
              "var notebookContainer = gd.closest('#notebook-container');\n",
              "if (notebookContainer) {{\n",
              "    x.observe(notebookContainer, {childList: true});\n",
              "}}\n",
              "\n",
              "// Listen for the clearing of the current output cell\n",
              "var outputEl = gd.closest('.output');\n",
              "if (outputEl) {{\n",
              "    x.observe(outputEl, {childList: true});\n",
              "}}\n",
              "\n",
              "                        })                };                            </script>        </div>\n",
              "</body>\n",
              "</html>"
            ]
          },
          "metadata": {}
        }
      ],
      "source": [
        "#  chart for creatinine phosphokinase vs death event\n",
        "import plotly.express as px\n",
        "fig = px.violin(df_vis, y=\"creatinine_phosphokinase\", x=\"death_event\", color=\"death_event\", box=True, points=\"all\", hover_data=df_vis.columns)\n",
        "fig.show()"
      ]
    },
    {
      "cell_type": "markdown",
      "id": "aa5f9df4",
      "metadata": {
        "papermill": {
          "duration": 0.017014,
          "end_time": "2022-10-17T02:26:44.699365",
          "exception": false,
          "start_time": "2022-10-17T02:26:44.682351",
          "status": "completed"
        },
        "tags": [],
        "id": "aa5f9df4"
      },
      "source": [
        "# Data preprocessing\n"
      ]
    },
    {
      "cell_type": "code",
      "execution_count": null,
      "id": "a3e03bdb",
      "metadata": {
        "execution": {
          "iopub.execute_input": "2022-10-17T02:26:44.738288Z",
          "iopub.status.busy": "2022-10-17T02:26:44.737451Z",
          "iopub.status.idle": "2022-10-17T02:26:44.748804Z",
          "shell.execute_reply": "2022-10-17T02:26:44.747854Z"
        },
        "papermill": {
          "duration": 0.034831,
          "end_time": "2022-10-17T02:26:44.751294",
          "exception": false,
          "start_time": "2022-10-17T02:26:44.716463",
          "status": "completed"
        },
        "tags": [],
        "colab": {
          "base_uri": "https://localhost:8080/"
        },
        "id": "a3e03bdb",
        "outputId": "f99cb71a-ece0-450d-e26e-d8e8bcc54ed0"
      },
      "outputs": [
        {
          "output_type": "execute_result",
          "data": {
            "text/plain": [
              "age                         0\n",
              "anaemia                     0\n",
              "creatinine_phosphokinase    0\n",
              "diabetes                    0\n",
              "ejection_fraction           0\n",
              "high_blood_pressure         0\n",
              "platelets                   0\n",
              "serum_creatinine            0\n",
              "serum_sodium                0\n",
              "sex                         0\n",
              "smoking                     0\n",
              "time                        0\n",
              "death_event                 0\n",
              "dtype: int64"
            ]
          },
          "metadata": {},
          "execution_count": 16
        }
      ],
      "source": [
        "data.isnull().sum()#Check for missing values"
      ]
    },
    {
      "cell_type": "code",
      "execution_count": null,
      "id": "ae289a09",
      "metadata": {
        "execution": {
          "iopub.execute_input": "2022-10-17T02:26:44.822867Z",
          "iopub.status.busy": "2022-10-17T02:26:44.822148Z",
          "iopub.status.idle": "2022-10-17T02:26:47.553300Z",
          "shell.execute_reply": "2022-10-17T02:26:47.552059Z"
        },
        "papermill": {
          "duration": 2.753062,
          "end_time": "2022-10-17T02:26:47.555980",
          "exception": false,
          "start_time": "2022-10-17T02:26:44.802918",
          "status": "completed"
        },
        "tags": [],
        "colab": {
          "base_uri": "https://localhost:8080/",
          "height": 423
        },
        "id": "ae289a09",
        "outputId": "b4415ca3-067c-424a-c8e9-e19933b175b6"
      },
      "outputs": [
        {
          "output_type": "display_data",
          "data": {
            "text/plain": [
              "<Figure size 1800x2520 with 60 Axes>"
            ],
            "image/png": "[encoded data removed]"
          },
          "metadata": {
            "needs_background": "light"
          }
        }
      ],
      "source": [
        "# Check for outliers\n",
        "nums = data.select_dtypes(exclude=[\"object\"])\n",
        "nums.plot(subplots = True , kind ='box', layout = (15,4), figsize = (25,35), patch_artist= True ,color = \"#6F266E\")\n",
        "plt.subplots_adjust(wspace = 0.5)\n",
        "plt.style.use(\"ggplot\")\n",
        "plt.show()"
      ]
    },
    {
      "cell_type": "markdown",
      "id": "742fbbe1",
      "metadata": {
        "papermill": {
          "duration": 0.018074,
          "end_time": "2022-10-17T02:26:47.592838",
          "exception": false,
          "start_time": "2022-10-17T02:26:47.574764",
          "status": "completed"
        },
        "tags": [],
        "id": "742fbbe1"
      },
      "source": [
        "#### Outliers are present in the data"
      ]
    },
    {
      "cell_type": "code",
      "execution_count": null,
      "id": "3e8f1fcd",
      "metadata": {
        "execution": {
          "iopub.execute_input": "2022-10-17T02:26:47.668271Z",
          "iopub.status.busy": "2022-10-17T02:26:47.667832Z",
          "iopub.status.idle": "2022-10-17T02:26:47.678592Z",
          "shell.execute_reply": "2022-10-17T02:26:47.677400Z"
        },
        "papermill": {
          "duration": 0.032884,
          "end_time": "2022-10-17T02:26:47.680930",
          "exception": false,
          "start_time": "2022-10-17T02:26:47.648046",
          "status": "completed"
        },
        "tags": [],
        "id": "3e8f1fcd"
      },
      "outputs": [],
      "source": [
        "# Deletion of outliers\n",
        "data = data.drop(data[data['platelets']>420000].index)\n",
        "data = data.drop(data[data['serum_creatinine']>2.5].index)\n",
        "data = data.drop(data[data['creatinine_phosphokinase']>1500].index)"
      ]
    },
    {
      "cell_type": "code",
      "execution_count": null,
      "id": "56f02ddb",
      "metadata": {
        "execution": {
          "iopub.execute_input": "2022-10-17T02:26:47.762291Z",
          "iopub.status.busy": "2022-10-17T02:26:47.761827Z",
          "iopub.status.idle": "2022-10-17T02:26:49.109380Z",
          "shell.execute_reply": "2022-10-17T02:26:49.108103Z"
        },
        "papermill": {
          "duration": 1.374067,
          "end_time": "2022-10-17T02:26:49.112992",
          "exception": false,
          "start_time": "2022-10-17T02:26:47.738925",
          "status": "completed"
        },
        "tags": [],
        "colab": {
          "base_uri": "https://localhost:8080/",
          "height": 733
        },
        "id": "56f02ddb",
        "outputId": "dd5ffbf3-f55f-4306-fd0e-43baeae1c0a6"
      },
      "outputs": [
        {
          "output_type": "display_data",
          "data": {
            "text/plain": [
              "<Figure size 1008x720 with 2 Axes>"
            ],
            "image/png": "[encoded data removed]"
          },
          "metadata": {}
        }
      ],
      "source": [
        "## Correlation heatmap:\n",
        "plt.figure(figsize=(14,10))\n",
        "sns.heatmap(data.corr(),annot=True,cmap='coolwarm')\n",
        "plt.title('Correlation Heatmap',fontsize=20)\n",
        "plt.show()\n"
      ]
    },
    {
      "cell_type": "markdown",
      "id": "0762864b",
      "metadata": {
        "papermill": {
          "duration": 0.020263,
          "end_time": "2022-10-17T02:26:49.154232",
          "exception": false,
          "start_time": "2022-10-17T02:26:49.133969",
          "status": "completed"
        },
        "tags": [],
        "id": "0762864b"
      },
      "source": [
        "## Importance of features:"
      ]
    },
    {
      "cell_type": "code",
      "execution_count": null,
      "id": "73666e96",
      "metadata": {
        "execution": {
          "iopub.execute_input": "2022-10-17T02:26:49.197979Z",
          "iopub.status.busy": "2022-10-17T02:26:49.197041Z",
          "iopub.status.idle": "2022-10-17T02:26:49.658636Z",
          "shell.execute_reply": "2022-10-17T02:26:49.657425Z"
        },
        "papermill": {
          "duration": 0.486228,
          "end_time": "2022-10-17T02:26:49.661301",
          "exception": false,
          "start_time": "2022-10-17T02:26:49.175073",
          "status": "completed"
        },
        "tags": [],
        "colab": {
          "base_uri": "https://localhost:8080/",
          "height": 409
        },
        "id": "73666e96",
        "outputId": "ba4cd58a-74f2-415f-c95e-d9ead3f47067"
      },
      "outputs": [
        {
          "output_type": "stream",
          "name": "stdout",
          "text": [
            "[0.09531315 0.02753872 0.0689343  0.02729427 0.13090494 0.02826694\n",
            " 0.07334965 0.1340942  0.0743908  0.02484279 0.0294304  0.28563986]\n"
          ]
        },
        {
          "output_type": "display_data",
          "data": {
            "text/plain": [
              "<Figure size 1080x432 with 1 Axes>"
            ],
            "image/png": "[encoded data removed]"
          },
          "metadata": {}
        }
      ],
      "source": [
        "# Feature Selection\n",
        "\n",
        "plt.rcParams['figure.figsize']=15,6\n",
        "sns.set_style(\"darkgrid\")\n",
        "x = data.iloc[:, :-1]\n",
        "y = data.iloc[:,-1]\n",
        "from sklearn.ensemble import ExtraTreesClassifier\n",
        "import matplotlib.pyplot as plt\n",
        "model = ExtraTreesClassifier()\n",
        "model.fit(x,y)\n",
        "print(model.feature_importances_)\n",
        "feat_importances = pd.Series(model.feature_importances_, index=x.columns)\n",
        "feat_importances.nlargest(12).plot(kind='barh',color='blue')\n",
        "plt.show()\n"
      ]
    },
    {
      "cell_type": "markdown",
      "id": "a15c3b5e",
      "metadata": {
        "papermill": {
          "duration": 0.022633,
          "end_time": "2022-10-17T02:26:49.705518",
          "exception": false,
          "start_time": "2022-10-17T02:26:49.682885",
          "status": "completed"
        },
        "tags": [],
        "id": "a15c3b5e"
      },
      "source": [
        "## VIF"
      ]
    },
    {
      "cell_type": "code",
      "execution_count": null,
      "id": "57896242",
      "metadata": {
        "execution": {
          "iopub.execute_input": "2022-10-17T02:26:49.751238Z",
          "iopub.status.busy": "2022-10-17T02:26:49.749490Z",
          "iopub.status.idle": "2022-10-17T02:26:49.875138Z",
          "shell.execute_reply": "2022-10-17T02:26:49.873809Z"
        },
        "papermill": {
          "duration": 0.151462,
          "end_time": "2022-10-17T02:26:49.877758",
          "exception": false,
          "start_time": "2022-10-17T02:26:49.726296",
          "status": "completed"
        },
        "tags": [],
        "colab": {
          "base_uri": "https://localhost:8080/"
        },
        "id": "57896242",
        "outputId": "05f79a07-1839-4e98-ff39-1700c11b05b5"
      },
      "outputs": [
        {
          "output_type": "execute_result",
          "data": {
            "text/plain": [
              "age                         32.133137\n",
              "anaemia                      1.990220\n",
              "creatinine_phosphokinase     2.494850\n",
              "diabetes                     1.770123\n",
              "ejection_fraction           13.574068\n",
              "high_blood_pressure          1.751405\n",
              "platelets                   14.339429\n",
              "serum_creatinine            11.815396\n",
              "serum_sodium                70.484089\n",
              "sex                          3.668322\n",
              "smoking                      1.905848\n",
              "time                         5.988001\n",
              "death_event                  2.594292\n",
              "dtype: float64"
            ]
          },
          "metadata": {},
          "execution_count": 21
        }
      ],
      "source": [
        "# Check for multicolinearity\n",
        "from statsmodels.stats.outliers_influence import variance_inflation_factor\n",
        "vif_data=data\n",
        "VIF=pd.Series([variance_inflation_factor(vif_data.values,i) \n",
        "for i in range(vif_data.shape[1])],index=vif_data.columns)\n",
        "VIF"
      ]
    },
    {
      "cell_type": "code",
      "execution_count": null,
      "id": "057312bb",
      "metadata": {
        "execution": {
          "iopub.execute_input": "2022-10-17T02:26:49.922520Z",
          "iopub.status.busy": "2022-10-17T02:26:49.922116Z",
          "iopub.status.idle": "2022-10-17T02:26:49.945586Z",
          "shell.execute_reply": "2022-10-17T02:26:49.944263Z"
        },
        "papermill": {
          "duration": 0.049523,
          "end_time": "2022-10-17T02:26:49.948465",
          "exception": false,
          "start_time": "2022-10-17T02:26:49.898942",
          "status": "completed"
        },
        "tags": [],
        "colab": {
          "base_uri": "https://localhost:8080/"
        },
        "id": "057312bb",
        "outputId": "9608fbae-b60d-4ff7-a3b3-eca8fd9660a8"
      },
      "outputs": [
        {
          "output_type": "execute_result",
          "data": {
            "text/plain": [
              "age                         32.133137\n",
              "anaemia                      1.990220\n",
              "creatinine_phosphokinase     2.494850\n",
              "diabetes                     1.770123\n",
              "ejection_fraction           13.574068\n",
              "high_blood_pressure          1.751405\n",
              "platelets                   14.339429\n",
              "serum_creatinine            11.815396\n",
              "serum_sodium                70.484089\n",
              "sex                          3.668322\n",
              "smoking                      1.905848\n",
              "time                         5.988001\n",
              "death_event                  2.594292\n",
              "dtype: float64"
            ]
          },
          "metadata": {},
          "execution_count": 22
        }
      ],
      "source": [
        "from statsmodels.stats.outliers_influence import variance_inflation_factor\n",
        "vif_data=data\n",
        "VIF=pd.Series([variance_inflation_factor(vif_data.values,i) \n",
        "for i in range(vif_data.shape[1])],index=vif_data.columns)\n",
        "VIF"
      ]
    },
    {
      "cell_type": "code",
      "execution_count": null,
      "id": "b0dc8486",
      "metadata": {
        "execution": {
          "iopub.execute_input": "2022-10-17T02:26:50.036041Z",
          "iopub.status.busy": "2022-10-17T02:26:50.035403Z",
          "iopub.status.idle": "2022-10-17T02:26:50.041738Z",
          "shell.execute_reply": "2022-10-17T02:26:50.040923Z"
        },
        "papermill": {
          "duration": 0.031654,
          "end_time": "2022-10-17T02:26:50.044117",
          "exception": false,
          "start_time": "2022-10-17T02:26:50.012463",
          "status": "completed"
        },
        "tags": [],
        "id": "b0dc8486"
      },
      "outputs": [],
      "source": [
        "# Treatment of multicolinearity:\n",
        "def MC_remover(data):\n",
        "    vif=pd.Series([variance_inflation_factor(data.values,i)for i in range(data.shape[1])],index=data.columns)\n",
        "    if vif.max()>13:\n",
        "        print(vif[vif == vif.max()].index[0],'has been removed')\n",
        "        data = data.drop(columns=[vif[vif==vif.max()].index[0]])\n",
        "        return data\n",
        "    else:\n",
        "        print(\"No multicollinearity present anymore\")\n",
        "        return data"
      ]
    },
    {
      "cell_type": "code",
      "execution_count": null,
      "id": "445562eb",
      "metadata": {
        "execution": {
          "iopub.execute_input": "2022-10-17T02:26:50.088609Z",
          "iopub.status.busy": "2022-10-17T02:26:50.087979Z",
          "iopub.status.idle": "2022-10-17T02:26:50.202842Z",
          "shell.execute_reply": "2022-10-17T02:26:50.201286Z"
        },
        "papermill": {
          "duration": 0.14043,
          "end_time": "2022-10-17T02:26:50.205601",
          "exception": false,
          "start_time": "2022-10-17T02:26:50.065171",
          "status": "completed"
        },
        "tags": [],
        "colab": {
          "base_uri": "https://localhost:8080/",
          "height": 444
        },
        "id": "445562eb",
        "outputId": "7dc1c138-2451-40e6-c392-244025895cc4"
      },
      "outputs": [
        {
          "output_type": "stream",
          "name": "stdout",
          "text": [
            "serum_sodium has been removed\n",
            "age has been removed\n",
            "No multicollinearity present anymore\n",
            "No multicollinearity present anymore\n",
            "No multicollinearity present anymore\n",
            "No multicollinearity present anymore\n",
            "No multicollinearity present anymore\n",
            "No multicollinearity present anymore\n",
            "No multicollinearity present anymore\n",
            "No multicollinearity present anymore\n"
          ]
        },
        {
          "output_type": "execute_result",
          "data": {
            "text/plain": [
              "   anaemia  creatinine_phosphokinase  diabetes  ejection_fraction  \\\n",
              "0        0                       582         0                 20   \n",
              "2        0                       146         0                 20   \n",
              "3        1                       111         0                 20   \n",
              "5        1                        47         0                 40   \n",
              "6        1                       246         0                 15   \n",
              "\n",
              "   high_blood_pressure  platelets  serum_creatinine  sex  smoking  time  \\\n",
              "0                    1   265000.0               1.9    1        0     4   \n",
              "2                    0   162000.0               1.3    1        1     7   \n",
              "3                    0   210000.0               1.9    1        0     7   \n",
              "5                    1   204000.0               2.1    1        1     8   \n",
              "6                    0   127000.0               1.2    1        0    10   \n",
              "\n",
              "   death_event  \n",
              "0            1  \n",
              "2            1  \n",
              "3            1  \n",
              "5            1  \n",
              "6            1  "
            ],
            "text/html": [
              "\n",
              "  <div id=\"df-830a0b29-2349-47c8-867c-66ff91f37007\">\n",
              "    <div class=\"colab-df-container\">\n",
              "      <div>\n",
              "<style scoped>\n",
              "    .dataframe tbody tr th:only-of-type {\n",
              "        vertical-align: middle;\n",
              "    }\n",
              "\n",
              "    .dataframe tbody tr th {\n",
              "        vertical-align: top;\n",
              "    }\n",
              "\n",
              "    .dataframe thead th {\n",
              "        text-align: right;\n",
              "    }\n",
              "</style>\n",
              "<table border=\"1\" class=\"dataframe\">\n",
              "  <thead>\n",
              "    <tr style=\"text-align: right;\">\n",
              "      <th></th>\n",
              "      <th>anaemia</th>\n",
              "      <th>creatinine_phosphokinase</th>\n",
              "      <th>diabetes</th>\n",
              "      <th>ejection_fraction</th>\n",
              "      <th>high_blood_pressure</th>\n",
              "      <th>platelets</th>\n",
              "      <th>serum_creatinine</th>\n",
              "      <th>sex</th>\n",
              "      <th>smoking</th>\n",
              "      <th>time</th>\n",
              "      <th>death_event</th>\n",
              "    </tr>\n",
              "  </thead>\n",
              "  <tbody>\n",
              "    <tr>\n",
              "      <th>0</th>\n",
              "      <td>0</td>\n",
              "      <td>582</td>\n",
              "      <td>0</td>\n",
              "      <td>20</td>\n",
              "      <td>1</td>\n",
              "      <td>265000.0</td>\n",
              "      <td>1.9</td>\n",
              "      <td>1</td>\n",
              "      <td>0</td>\n",
              "      <td>4</td>\n",
              "      <td>1</td>\n",
              "    </tr>\n",
              "    <tr>\n",
              "      <th>2</th>\n",
              "      <td>0</td>\n",
              "      <td>146</td>\n",
              "      <td>0</td>\n",
              "      <td>20</td>\n",
              "      <td>0</td>\n",
              "      <td>162000.0</td>\n",
              "      <td>1.3</td>\n",
              "      <td>1</td>\n",
              "      <td>1</td>\n",
              "      <td>7</td>\n",
              "      <td>1</td>\n",
              "    </tr>\n",
              "    <tr>\n",
              "      <th>3</th>\n",
              "      <td>1</td>\n",
              "      <td>111</td>\n",
              "      <td>0</td>\n",
              "      <td>20</td>\n",
              "      <td>0</td>\n",
              "      <td>210000.0</td>\n",
              "      <td>1.9</td>\n",
              "      <td>1</td>\n",
              "      <td>0</td>\n",
              "      <td>7</td>\n",
              "      <td>1</td>\n",
              "    </tr>\n",
              "    <tr>\n",
              "      <th>5</th>\n",
              "      <td>1</td>\n",
              "      <td>47</td>\n",
              "      <td>0</td>\n",
              "      <td>40</td>\n",
              "      <td>1</td>\n",
              "      <td>204000.0</td>\n",
              "      <td>2.1</td>\n",
              "      <td>1</td>\n",
              "      <td>1</td>\n",
              "      <td>8</td>\n",
              "      <td>1</td>\n",
              "    </tr>\n",
              "    <tr>\n",
              "      <th>6</th>\n",
              "      <td>1</td>\n",
              "      <td>246</td>\n",
              "      <td>0</td>\n",
              "      <td>15</td>\n",
              "      <td>0</td>\n",
              "      <td>127000.0</td>\n",
              "      <td>1.2</td>\n",
              "      <td>1</td>\n",
              "      <td>0</td>\n",
              "      <td>10</td>\n",
              "      <td>1</td>\n",
              "    </tr>\n",
              "  </tbody>\n",
              "</table>\n",
              "</div>\n",
              "      <button class=\"colab-df-convert\" onclick=\"convertToInteractive('df-830a0b29-2349-47c8-867c-66ff91f37007')\"\n",
              "              title=\"Convert this dataframe to an interactive table.\"\n",
              "              style=\"display:none;\">\n",
              "        \n",
              "  <svg xmlns=\"http://www.w3.org/2000/svg\" height=\"24px\"viewBox=\"0 0 24 24\"\n",
              "       width=\"24px\">\n",
              "    <path d=\"M0 0h24v24H0V0z\" fill=\"none\"/>\n",
              "    <path d=\"M18.56 5.44l.94 2.06.94-2.06 2.06-.94-2.06-.94-.94-2.06-.94 2.06-2.06.94zm-11 1L8.5 8.5l.94-2.06 2.06-.94-2.06-.94L8.5 2.5l-.94 2.06-2.06.94zm10 10l.94 2.06.94-2.06 2.06-.94-2.06-.94-.94-2.06-.94 2.06-2.06.94z\"/><path d=\"M17.41 7.96l-1.37-1.37c-.4-.4-.92-.59-1.43-.59-.52 0-1.04.2-1.43.59L10.3 9.45l-7.72 7.72c-.78.78-.78 2.05 0 2.83L4 21.41c.39.39.9.59 1.41.59.51 0 1.02-.2 1.41-.59l7.78-7.78 2.81-2.81c.8-.78.8-2.07 0-2.86zM5.41 20L4 18.59l7.72-7.72 1.47 1.35L5.41 20z\"/>\n",
              "  </svg>\n",
              "      </button>\n",
              "      \n",
              "  <style>\n",
              "    .colab-df-container {\n",
              "      display:flex;\n",
              "      flex-wrap:wrap;\n",
              "      gap: 12px;\n",
              "    }\n",
              "\n",
              "    .colab-df-convert {\n",
              "      background-color: #E8F0FE;\n",
              "      border: none;\n",
              "      border-radius: 50%;\n",
              "      cursor: pointer;\n",
              "      display: none;\n",
              "      fill: #1967D2;\n",
              "      height: 32px;\n",
              "      padding: 0 0 0 0;\n",
              "      width: 32px;\n",
              "    }\n",
              "\n",
              "    .colab-df-convert:hover {\n",
              "      background-color: #E2EBFA;\n",
              "      box-shadow: 0px 1px 2px rgba(60, 64, 67, 0.3), 0px 1px 3px 1px rgba(60, 64, 67, 0.15);\n",
              "      fill: #174EA6;\n",
              "    }\n",
              "\n",
              "    [theme=dark] .colab-df-convert {\n",
              "      background-color: #3B4455;\n",
              "      fill: #D2E3FC;\n",
              "    }\n",
              "\n",
              "    [theme=dark] .colab-df-convert:hover {\n",
              "      background-color: #434B5C;\n",
              "      box-shadow: 0px 1px 3px 1px rgba(0, 0, 0, 0.15);\n",
              "      filter: drop-shadow(0px 1px 2px rgba(0, 0, 0, 0.3));\n",
              "      fill: #FFFFFF;\n",
              "    }\n",
              "  </style>\n",
              "\n",
              "      <script>\n",
              "        const buttonEl =\n",
              "          document.querySelector('#df-830a0b29-2349-47c8-867c-66ff91f37007 button.colab-df-convert');\n",
              "        buttonEl.style.display =\n",
              "          google.colab.kernel.accessAllowed ? 'block' : 'none';\n",
              "\n",
              "        async function convertToInteractive(key) {\n",
              "          const element = document.querySelector('#df-830a0b29-2349-47c8-867c-66ff91f37007');\n",
              "          const dataTable =\n",
              "            await google.colab.kernel.invokeFunction('convertToInteractive',\n",
              "                                                     [key], {});\n",
              "          if (!dataTable) return;\n",
              "\n",
              "          const docLinkHtml = 'Like what you see? Visit the ' +\n",
              "            '<a target=\"_blank\" href=https://colab.research.google.com/notebooks/data_table.ipynb>data table notebook</a>'\n",
              "            + ' to learn more about interactive tables.';\n",
              "          element.innerHTML = '';\n",
              "          dataTable['output_type'] = 'display_data';\n",
              "          await google.colab.output.renderOutput(dataTable, element);\n",
              "          const docLink = document.createElement('div');\n",
              "          docLink.innerHTML = docLinkHtml;\n",
              "          element.appendChild(docLink);\n",
              "        }\n",
              "      </script>\n",
              "    </div>\n",
              "  </div>\n",
              "  "
            ]
          },
          "metadata": {},
          "execution_count": 24
        }
      ],
      "source": [
        "for i in range(10):\n",
        "    vif_data=MC_remover(vif_data)\n",
        "vif_data.head()"
      ]
    },
    {
      "cell_type": "code",
      "execution_count": null,
      "id": "dbaeff95",
      "metadata": {
        "execution": {
          "iopub.execute_input": "2022-10-17T02:26:50.297638Z",
          "iopub.status.busy": "2022-10-17T02:26:50.296708Z",
          "iopub.status.idle": "2022-10-17T02:26:50.317142Z",
          "shell.execute_reply": "2022-10-17T02:26:50.316037Z"
        },
        "papermill": {
          "duration": 0.047678,
          "end_time": "2022-10-17T02:26:50.319898",
          "exception": false,
          "start_time": "2022-10-17T02:26:50.272220",
          "status": "completed"
        },
        "tags": [],
        "colab": {
          "base_uri": "https://localhost:8080/"
        },
        "id": "dbaeff95",
        "outputId": "3c6b53f0-c3d8-436e-ab70-00080760c341"
      },
      "outputs": [
        {
          "output_type": "execute_result",
          "data": {
            "text/plain": [
              "(anaemia                      1.874963\n",
              " creatinine_phosphokinase     2.408144\n",
              " diabetes                     1.748202\n",
              " ejection_fraction            8.627403\n",
              " high_blood_pressure          1.703581\n",
              " platelets                   10.898727\n",
              " serum_creatinine             9.741133\n",
              " sex                          3.404279\n",
              " smoking                      1.893181\n",
              " time                         5.199160\n",
              " death_event                  2.377216\n",
              " dtype: float64, 11)"
            ]
          },
          "metadata": {},
          "execution_count": 25
        }
      ],
      "source": [
        "# Calculating VIF for remaining columns:\n",
        "VIF=pd.Series([variance_inflation_factor(vif_data.values,i) for i in range(vif_data.shape[1])],index=vif_data.columns)\n",
        "VIF,len(vif_data.columns)"
      ]
    },
    {
      "cell_type": "code",
      "execution_count": null,
      "id": "3dc68738",
      "metadata": {
        "execution": {
          "iopub.execute_input": "2022-10-17T02:26:50.409046Z",
          "iopub.status.busy": "2022-10-17T02:26:50.408028Z",
          "iopub.status.idle": "2022-10-17T02:26:50.415216Z",
          "shell.execute_reply": "2022-10-17T02:26:50.414251Z"
        },
        "papermill": {
          "duration": 0.033494,
          "end_time": "2022-10-17T02:26:50.417833",
          "exception": false,
          "start_time": "2022-10-17T02:26:50.384339",
          "status": "completed"
        },
        "tags": [],
        "id": "3dc68738"
      },
      "outputs": [],
      "source": [
        "# Splitting data:\n",
        "X = vif_data.drop('death_event',axis=1)\n",
        "y = vif_data['death_event']\n"
      ]
    },
    {
      "cell_type": "code",
      "execution_count": null,
      "id": "76a79874",
      "metadata": {
        "execution": {
          "iopub.execute_input": "2022-10-17T02:26:50.506569Z",
          "iopub.status.busy": "2022-10-17T02:26:50.505794Z",
          "iopub.status.idle": "2022-10-17T02:26:50.658423Z",
          "shell.execute_reply": "2022-10-17T02:26:50.656631Z"
        },
        "papermill": {
          "duration": 0.178947,
          "end_time": "2022-10-17T02:26:50.661305",
          "exception": false,
          "start_time": "2022-10-17T02:26:50.482358",
          "status": "completed"
        },
        "tags": [],
        "id": "76a79874"
      },
      "outputs": [],
      "source": [
        "# Balance the data by oversampling the minority class\n",
        "\n",
        "from imblearn.over_sampling import SMOTE\n",
        "sm = SMOTE(random_state=42)\n",
        "X_sm, y_sm = sm.fit_resample(X, y)\n",
        "\n"
      ]
    },
    {
      "cell_type": "code",
      "execution_count": null,
      "id": "51896d2d",
      "metadata": {
        "execution": {
          "iopub.execute_input": "2022-10-17T02:26:50.752990Z",
          "iopub.status.busy": "2022-10-17T02:26:50.752545Z",
          "iopub.status.idle": "2022-10-17T02:26:50.762790Z",
          "shell.execute_reply": "2022-10-17T02:26:50.761567Z"
        },
        "papermill": {
          "duration": 0.039068,
          "end_time": "2022-10-17T02:26:50.765311",
          "exception": false,
          "start_time": "2022-10-17T02:26:50.726243",
          "status": "completed"
        },
        "tags": [],
        "id": "51896d2d"
      },
      "outputs": [],
      "source": [
        "# Scaling data:\n",
        "from sklearn.preprocessing import StandardScaler\n",
        "scaler = StandardScaler()\n",
        "X_sm = scaler.fit_transform(X_sm)\n"
      ]
    },
    {
      "cell_type": "code",
      "execution_count": null,
      "id": "2433e3cf",
      "metadata": {
        "execution": {
          "iopub.execute_input": "2022-10-17T02:26:50.950095Z",
          "iopub.status.busy": "2022-10-17T02:26:50.949287Z",
          "iopub.status.idle": "2022-10-17T02:26:50.956383Z",
          "shell.execute_reply": "2022-10-17T02:26:50.955294Z"
        },
        "papermill": {
          "duration": 0.032967,
          "end_time": "2022-10-17T02:26:50.959251",
          "exception": false,
          "start_time": "2022-10-17T02:26:50.926284",
          "status": "completed"
        },
        "tags": [],
        "id": "2433e3cf"
      },
      "outputs": [],
      "source": [
        "# Split into train and test data:\n",
        "X_train, X_test, y_train, y_test = train_test_split(X_sm, y_sm, test_size=0.2, random_state=42)"
      ]
    },
    {
      "cell_type": "code",
      "execution_count": null,
      "id": "d2fffec1",
      "metadata": {
        "execution": {
          "iopub.execute_input": "2022-10-17T02:26:51.047598Z",
          "iopub.status.busy": "2022-10-17T02:26:51.047205Z",
          "iopub.status.idle": "2022-10-17T02:26:51.059173Z",
          "shell.execute_reply": "2022-10-17T02:26:51.058124Z"
        },
        "papermill": {
          "duration": 0.037494,
          "end_time": "2022-10-17T02:26:51.061781",
          "exception": false,
          "start_time": "2022-10-17T02:26:51.024287",
          "status": "completed"
        },
        "tags": [],
        "colab": {
          "base_uri": "https://localhost:8080/"
        },
        "id": "d2fffec1",
        "outputId": "b8606104-3e51-4900-8948-8ce091062838"
      },
      "outputs": [
        {
          "output_type": "stream",
          "name": "stdout",
          "text": [
            "Accuracy of logistic regression classifier on test set: 0.76\n"
          ]
        }
      ],
      "source": [
        "#Training Logistic regression\n",
        "logreg = LogisticRegression()\n",
        "logreg.fit(X_train, y_train)\n",
        "y_pred = logreg.predict(X_test)\n",
        "print('Accuracy of logistic regression classifier on test set: {:.2f}'.format(logreg.score(X_test, y_test)))\n"
      ]
    },
    {
      "cell_type": "code",
      "execution_count": null,
      "id": "3805e33d",
      "metadata": {
        "execution": {
          "iopub.execute_input": "2022-10-17T02:26:51.151587Z",
          "iopub.status.busy": "2022-10-17T02:26:51.151086Z",
          "iopub.status.idle": "2022-10-17T02:26:51.348345Z",
          "shell.execute_reply": "2022-10-17T02:26:51.346712Z"
        },
        "papermill": {
          "duration": 0.223493,
          "end_time": "2022-10-17T02:26:51.351147",
          "exception": false,
          "start_time": "2022-10-17T02:26:51.127654",
          "status": "completed"
        },
        "tags": [],
        "colab": {
          "base_uri": "https://localhost:8080/"
        },
        "id": "3805e33d",
        "outputId": "017a480e-a317-4bcd-807e-536de0693fc8"
      },
      "outputs": [
        {
          "output_type": "stream",
          "name": "stdout",
          "text": [
            "Accuracy of random forest classifier on test set: 0.93\n"
          ]
        }
      ],
      "source": [
        "# Training random forest classifier\n",
        "from sklearn.ensemble import RandomForestClassifier\n",
        "rfc = RandomForestClassifier()\n",
        "rfc.fit(X_train, y_train)\n",
        "y_pred = rfc.predict(X_test)\n",
        "print('Accuracy of random forest classifier on test set: {:.2f}'.format(rfc.score(X_test, y_test)))"
      ]
    },
    {
      "cell_type": "code",
      "execution_count": null,
      "id": "28a86f3d",
      "metadata": {
        "execution": {
          "iopub.execute_input": "2022-10-17T02:27:13.120978Z",
          "iopub.status.busy": "2022-10-17T02:27:13.120558Z",
          "iopub.status.idle": "2022-10-17T02:27:13.132318Z",
          "shell.execute_reply": "2022-10-17T02:27:13.130843Z"
        },
        "papermill": {
          "duration": 0.067233,
          "end_time": "2022-10-17T02:27:13.135309",
          "exception": false,
          "start_time": "2022-10-17T02:27:13.068076",
          "status": "completed"
        },
        "tags": [],
        "colab": {
          "base_uri": "https://localhost:8080/"
        },
        "id": "28a86f3d",
        "outputId": "0755d074-2e21-4ece-f27b-6f21e6fcff3f"
      },
      "outputs": [
        {
          "output_type": "stream",
          "name": "stdout",
          "text": [
            "              precision    recall  f1-score   support\n",
            "\n",
            "           0       0.80      0.77      0.79        31\n",
            "           1       0.81      0.83      0.82        36\n",
            "\n",
            "    accuracy                           0.81        67\n",
            "   macro avg       0.81      0.80      0.80        67\n",
            "weighted avg       0.81      0.81      0.81        67\n",
            "\n"
          ]
        }
      ],
      "source": [
        "# Classification report and results\n",
        "from sklearn.metrics import classification_report\n",
        "print(classification_report(y_test, y_pred))"
      ]
    },
    {
      "cell_type": "code",
      "execution_count": null,
      "id": "55dc3836",
      "metadata": {
        "execution": {
          "iopub.execute_input": "2022-10-17T02:27:13.341352Z",
          "iopub.status.busy": "2022-10-17T02:27:13.340192Z",
          "iopub.status.idle": "2022-10-17T02:27:13.609862Z",
          "shell.execute_reply": "2022-10-17T02:27:13.608579Z"
        },
        "papermill": {
          "duration": 0.325521,
          "end_time": "2022-10-17T02:27:13.612615",
          "exception": false,
          "start_time": "2022-10-17T02:27:13.287094",
          "status": "completed"
        },
        "tags": [],
        "colab": {
          "base_uri": "https://localhost:8080/",
          "height": 378
        },
        "id": "55dc3836",
        "outputId": "0801c31b-1e6e-4022-f255-b41cc42e8dab"
      },
      "outputs": [
        {
          "output_type": "display_data",
          "data": {
            "text/plain": [
              "<Figure size 1080x432 with 2 Axes>"
            ],
            "image/png": "[encoded data removed]"
          },
          "metadata": {}
        }
      ],
      "source": [
        "# plot confusion matrix with seaborn heatmap\n",
        "from sklearn.metrics import confusion_matrix\n",
        "cm = confusion_matrix(y_test, y_pred)\n",
        "sns.heatmap(cm, annot=True, fmt='d', cmap='Blues')\n",
        "plt.show()\n",
        "\n",
        "\n"
      ]
    }
  ],
  "metadata": {
    "kernelspec": {
      "display_name": "Python 3",
      "language": "python",
      "name": "python3"
    },
    "language_info": {
      "codemirror_mode": {
        "name": "ipython",
        "version": 3
      },
      "file_extension": ".py",
      "mimetype": "text/x-python",
      "name": "python",
      "nbconvert_exporter": "python",
      "pygments_lexer": "ipython3",
      "version": "3.7.12"
    },
    "papermill": {
      "default_parameters": {},
      "duration": 50.335786,
      "end_time": "2022-10-17T02:27:17.590112",
      "environment_variables": {},
      "exception": null,
      "input_path": "__notebook__.ipynb",
      "output_path": "__notebook__.ipynb",
      "parameters": {},
      "start_time": "2022-10-17T02:26:27.254326",
      "version": "2.3.4"
    },
    "colab": {
      "provenance": [],
      "collapsed_sections": [
        "d346b6e9",
        "c9f55735",
        "129ea753",
        "7262dca1"
      ],
      "include_colab_link": true
    }
  },
  "nbformat": 4,
  "nbformat_minor": 5
}